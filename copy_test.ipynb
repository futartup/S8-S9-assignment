{
  "nbformat": 4,
  "nbformat_minor": 0,
  "metadata": {
    "kernelspec": {
      "display_name": "Python 3",
      "language": "python",
      "name": "python3"
    },
    "language_info": {
      "codemirror_mode": {
        "name": "ipython",
        "version": 3
      },
      "file_extension": ".py",
      "mimetype": "text/x-python",
      "name": "python",
      "nbconvert_exporter": "python",
      "pygments_lexer": "ipython3",
      "version": "3.6.6"
    },
    "colab": {
      "name": "copy_test.ipynb",
      "provenance": [],
      "collapsed_sections": [],
      "include_colab_link": true
    }
  },
  "cells": [
    {
      "cell_type": "markdown",
      "metadata": {
        "id": "view-in-github",
        "colab_type": "text"
      },
      "source": [
        "<a href=\"https://colab.research.google.com/github/futartup/S8-assignment/blob/master/copy_test.ipynb\" target=\"_parent\"><img src=\"https://colab.research.google.com/assets/colab-badge.svg\" alt=\"Open In Colab\"/></a>"
      ]
    },
    {
      "cell_type": "code",
      "metadata": {
        "id": "GCcDQolpuaPv",
        "colab_type": "code",
        "colab": {}
      },
      "source": [
        "from tqdm import tqdm\n",
        "import torch\n",
        "import torch.nn.functional as F"
      ],
      "execution_count": 0,
      "outputs": []
    },
    {
      "cell_type": "code",
      "metadata": {
        "id": "96DzHfvuuaP2",
        "colab_type": "code",
        "colab": {}
      },
      "source": [
        "\n",
        "\n",
        "\n",
        "def test_model(model, device, \n",
        "               test_loader, criterion, \n",
        "               e, sample_count,\n",
        "               correct_predicted, false_predicted, \n",
        "               test_losses, test_acc):\n",
        "    model.eval()\n",
        "    test_loss = 0\n",
        "    correct = 0\n",
        "    with torch.no_grad():\n",
        "        for data, target in test_loader:\n",
        "            data, target = data.to(device), target.to(device)\n",
        "            output = model(data)\n",
        "            test_loss += criterion(output, target).item()*data.size(0)  # sum up batch loss\n",
        "            pred = output.argmax(dim=1, keepdim=True)  # get the index of the max log-probability\n",
        "            result = pred.eq(target.view_as(pred))\n",
        "            if e == 2:\n",
        "              for i,val in enumerate(result):\n",
        "                status = val.item()\n",
        "                if status:\n",
        "                  if len(correct_predicted) < sample_count:\n",
        "                    correct_predicted.append({\n",
        "                        'prediction': pred[i],\n",
        "                        'label': list(target.view_as(pred))[i],\n",
        "                        'image': data[i]\n",
        "                    })\n",
        "                else:\n",
        "                  if len(false_predicted) < sample_count:\n",
        "                    false_predicted.append({\n",
        "                        'prediction': pred[i],\n",
        "                        'label': list(target.view_as(pred))[i],\n",
        "                        'image': data[i]\n",
        "                    })\n",
        "            correct += result.sum().item()\n",
        "    test_loss /= len(test_loader.dataset)\n",
        "    test_losses.append(test_loss)\n",
        "    #pbar.set_description(desc= f'Loss={test_loss.item()} Batch_id={batch_idx} Accuracy={100*correct/processed:0.2f}')\n",
        "    print('\\nTest set: Average loss: {:.4f}, Accuracy: {}/{} ({:.2f}%)\\n'.format(\n",
        "        test_loss, correct, len(test_loader.dataset),\n",
        "        100. * correct / len(test_loader.dataset)))\n",
        "    \n",
        "    test_acc.append(100. * correct / len(test_loader.dataset))\n",
        "    return test_loss"
      ],
      "execution_count": 0,
      "outputs": []
    }
  ]
}