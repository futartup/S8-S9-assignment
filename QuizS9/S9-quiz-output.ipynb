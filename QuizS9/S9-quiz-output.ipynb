{
  "nbformat": 4,
  "nbformat_minor": 0,
  "metadata": {
    "kernelspec": {
      "name": "python3",
      "display_name": "Python 3"
    },
    "colab": {
      "name": "main.ipynb",
      "provenance": [],
      "collapsed_sections": [],
      "include_colab_link": true
    },
    "accelerator": "GPU",
    "widgets": {
      "application/vnd.jupyter.widget-state+json": {
        "849542969485437ea3e9352cfe82989e": {
          "model_module": "@jupyter-widgets/controls",
          "model_name": "HBoxModel",
          "state": {
            "_view_name": "HBoxView",
            "_dom_classes": [],
            "_model_name": "HBoxModel",
            "_view_module": "@jupyter-widgets/controls",
            "_model_module_version": "1.5.0",
            "_view_count": null,
            "_view_module_version": "1.5.0",
            "box_style": "",
            "layout": "IPY_MODEL_42cb7ac26d2343f4947f93a86df91e1a",
            "_model_module": "@jupyter-widgets/controls",
            "children": [
              "IPY_MODEL_3ad3f6d0b78f457d98c036b5b8690465",
              "IPY_MODEL_f306035f7e9c4c6a880cabbf0be52467"
            ]
          }
        },
        "42cb7ac26d2343f4947f93a86df91e1a": {
          "model_module": "@jupyter-widgets/base",
          "model_name": "LayoutModel",
          "state": {
            "_view_name": "LayoutView",
            "grid_template_rows": null,
            "right": null,
            "justify_content": null,
            "_view_module": "@jupyter-widgets/base",
            "overflow": null,
            "_model_module_version": "1.2.0",
            "_view_count": null,
            "flex_flow": null,
            "width": null,
            "min_width": null,
            "border": null,
            "align_items": null,
            "bottom": null,
            "_model_module": "@jupyter-widgets/base",
            "top": null,
            "grid_column": null,
            "overflow_y": null,
            "overflow_x": null,
            "grid_auto_flow": null,
            "grid_area": null,
            "grid_template_columns": null,
            "flex": null,
            "_model_name": "LayoutModel",
            "justify_items": null,
            "grid_row": null,
            "max_height": null,
            "align_content": null,
            "visibility": null,
            "align_self": null,
            "height": null,
            "min_height": null,
            "padding": null,
            "grid_auto_rows": null,
            "grid_gap": null,
            "max_width": null,
            "order": null,
            "_view_module_version": "1.2.0",
            "grid_template_areas": null,
            "object_position": null,
            "object_fit": null,
            "grid_auto_columns": null,
            "margin": null,
            "display": null,
            "left": null
          }
        },
        "3ad3f6d0b78f457d98c036b5b8690465": {
          "model_module": "@jupyter-widgets/controls",
          "model_name": "IntProgressModel",
          "state": {
            "_view_name": "ProgressView",
            "style": "IPY_MODEL_df692163836040bd8986ee0516fb1330",
            "_dom_classes": [],
            "description": " 81%",
            "_model_name": "IntProgressModel",
            "bar_style": "danger",
            "max": 400,
            "_view_module": "@jupyter-widgets/controls",
            "_model_module_version": "1.5.0",
            "value": 325,
            "_view_count": null,
            "_view_module_version": "1.5.0",
            "orientation": "horizontal",
            "min": 0,
            "description_tooltip": null,
            "_model_module": "@jupyter-widgets/controls",
            "layout": "IPY_MODEL_a0c0f0dc0c1840d2b8b60dad8f6f0e8b"
          }
        },
        "f306035f7e9c4c6a880cabbf0be52467": {
          "model_module": "@jupyter-widgets/controls",
          "model_name": "HTMLModel",
          "state": {
            "_view_name": "HTMLView",
            "style": "IPY_MODEL_0e751504d0144a1da51d4c5ace8f148b",
            "_dom_classes": [],
            "description": "",
            "_model_name": "HTMLModel",
            "placeholder": "​",
            "_view_module": "@jupyter-widgets/controls",
            "_model_module_version": "1.5.0",
            "value": " 325/400 [00:30&lt;00:04, 16.72it/s]",
            "_view_count": null,
            "_view_module_version": "1.5.0",
            "description_tooltip": null,
            "_model_module": "@jupyter-widgets/controls",
            "layout": "IPY_MODEL_1bd9ac8f6fca4473a3c3123c184bd8fa"
          }
        },
        "df692163836040bd8986ee0516fb1330": {
          "model_module": "@jupyter-widgets/controls",
          "model_name": "ProgressStyleModel",
          "state": {
            "_view_name": "StyleView",
            "_model_name": "ProgressStyleModel",
            "description_width": "initial",
            "_view_module": "@jupyter-widgets/base",
            "_model_module_version": "1.5.0",
            "_view_count": null,
            "_view_module_version": "1.2.0",
            "bar_color": null,
            "_model_module": "@jupyter-widgets/controls"
          }
        },
        "a0c0f0dc0c1840d2b8b60dad8f6f0e8b": {
          "model_module": "@jupyter-widgets/base",
          "model_name": "LayoutModel",
          "state": {
            "_view_name": "LayoutView",
            "grid_template_rows": null,
            "right": null,
            "justify_content": null,
            "_view_module": "@jupyter-widgets/base",
            "overflow": null,
            "_model_module_version": "1.2.0",
            "_view_count": null,
            "flex_flow": null,
            "width": null,
            "min_width": null,
            "border": null,
            "align_items": null,
            "bottom": null,
            "_model_module": "@jupyter-widgets/base",
            "top": null,
            "grid_column": null,
            "overflow_y": null,
            "overflow_x": null,
            "grid_auto_flow": null,
            "grid_area": null,
            "grid_template_columns": null,
            "flex": null,
            "_model_name": "LayoutModel",
            "justify_items": null,
            "grid_row": null,
            "max_height": null,
            "align_content": null,
            "visibility": null,
            "align_self": null,
            "height": null,
            "min_height": null,
            "padding": null,
            "grid_auto_rows": null,
            "grid_gap": null,
            "max_width": null,
            "order": null,
            "_view_module_version": "1.2.0",
            "grid_template_areas": null,
            "object_position": null,
            "object_fit": null,
            "grid_auto_columns": null,
            "margin": null,
            "display": null,
            "left": null
          }
        },
        "0e751504d0144a1da51d4c5ace8f148b": {
          "model_module": "@jupyter-widgets/controls",
          "model_name": "DescriptionStyleModel",
          "state": {
            "_view_name": "StyleView",
            "_model_name": "DescriptionStyleModel",
            "description_width": "",
            "_view_module": "@jupyter-widgets/base",
            "_model_module_version": "1.5.0",
            "_view_count": null,
            "_view_module_version": "1.2.0",
            "_model_module": "@jupyter-widgets/controls"
          }
        },
        "1bd9ac8f6fca4473a3c3123c184bd8fa": {
          "model_module": "@jupyter-widgets/base",
          "model_name": "LayoutModel",
          "state": {
            "_view_name": "LayoutView",
            "grid_template_rows": null,
            "right": null,
            "justify_content": null,
            "_view_module": "@jupyter-widgets/base",
            "overflow": null,
            "_model_module_version": "1.2.0",
            "_view_count": null,
            "flex_flow": null,
            "width": null,
            "min_width": null,
            "border": null,
            "align_items": null,
            "bottom": null,
            "_model_module": "@jupyter-widgets/base",
            "top": null,
            "grid_column": null,
            "overflow_y": null,
            "overflow_x": null,
            "grid_auto_flow": null,
            "grid_area": null,
            "grid_template_columns": null,
            "flex": null,
            "_model_name": "LayoutModel",
            "justify_items": null,
            "grid_row": null,
            "max_height": null,
            "align_content": null,
            "visibility": null,
            "align_self": null,
            "height": null,
            "min_height": null,
            "padding": null,
            "grid_auto_rows": null,
            "grid_gap": null,
            "max_width": null,
            "order": null,
            "_view_module_version": "1.2.0",
            "grid_template_areas": null,
            "object_position": null,
            "object_fit": null,
            "grid_auto_columns": null,
            "margin": null,
            "display": null,
            "left": null
          }
        }
      }
    }
  },
  "cells": [
    {
      "cell_type": "markdown",
      "metadata": {
        "id": "view-in-github",
        "colab_type": "text"
      },
      "source": [
        "<a href=\"https://colab.research.google.com/github/futartup/S8-S9-assignment/blob/master/QuizS9/S9-quiz-output.ipynb\" target=\"_parent\"><img src=\"https://colab.research.google.com/assets/colab-badge.svg\" alt=\"Open In Colab\"/></a>"
      ]
    },
    {
      "cell_type": "code",
      "metadata": {
        "id": "O98C8UvoCeFQ",
        "colab_type": "code",
        "outputId": "782527e9-c8bc-491a-cd9b-6af2641bcf01",
        "colab": {
          "base_uri": "https://localhost:8080/",
          "height": 34
        }
      },
      "source": [
        "from google.colab import drive\n",
        "drive.mount('/content/drive', force_remount=True)"
      ],
      "execution_count": 1,
      "outputs": [
        {
          "output_type": "stream",
          "text": [
            "Mounted at /content/drive\n"
          ],
          "name": "stdout"
        }
      ]
    },
    {
      "cell_type": "markdown",
      "metadata": {
        "id": "9YVgO-OjKztm",
        "colab_type": "text"
      },
      "source": [
        "# Add the current path to system path so that it can find the custom libraries"
      ]
    },
    {
      "cell_type": "code",
      "metadata": {
        "id": "7MNBYAXJ0Uk1",
        "colab_type": "code",
        "colab": {}
      },
      "source": [
        "import os, sys\n",
        "if '/content/drive/My Drive/Colab Notebooks/S8' not in sys.path:\n",
        "  sys.path.append('/content/drive/My Drive/Colab Notebooks/S8')"
      ],
      "execution_count": 0,
      "outputs": []
    },
    {
      "cell_type": "markdown",
      "metadata": {
        "id": "js-y5Qt57MOX",
        "colab_type": "text"
      },
      "source": [
        "# Import all the custom and inbuilt modules"
      ]
    },
    {
      "cell_type": "code",
      "metadata": {
        "id": "SBszNqk7SPAL",
        "colab_type": "code",
        "outputId": "009d58b6-f311-4ec7-849a-29b239a81dcd",
        "colab": {
          "base_uri": "https://localhost:8080/",
          "height": 68
        }
      },
      "source": [
        "!ls \n",
        "try:\n",
        "  import ipynb\n",
        "except:\n",
        "  !pip install ipynb --upgrade\n",
        "import torch\n",
        "from torch.optim.lr_scheduler import ReduceLROnPlateau, StepLR\n",
        "import torch.optim as optim\n",
        "import os, sys\n",
        "\n",
        "from torchsummary import summary\n",
        "import torch.optim as optim\n",
        "import torch.nn as nn\n",
        "import torchvision\n",
        "import matplotlib.pyplot as plt\n",
        "import torchvision\n",
        "import torchvision.transforms.functional as F\n",
        "\n",
        "\n",
        "\n",
        "# custom apis\n",
        "from ipynb.fs.full.transform_train_test_loader import *\n",
        "import ipynb.fs.full.conf as conf\n",
        "\n",
        "from ipynb.fs.full.train import train_model\n",
        "from ipynb.fs.full.copy_test import test_model\n",
        "from ipynb.fs.full.utils import *\n",
        "from ipynb.fs.full.lr_finder import *\n",
        "# import gradcam \n",
        "from ipynb.fs.full.resnet_gradcam import *\n"
      ],
      "execution_count": 3,
      "outputs": [
        {
          "output_type": "stream",
          "text": [
            "data  drive  sample_data\n"
          ],
          "name": "stdout"
        },
        {
          "output_type": "stream",
          "text": [
            "WARNING:ipynb.fs.full.lr_finder:To enable mixed precision training, please install `apex`. Or you can re-install this package by the following command:\n",
            "  pip install torch-lr-finder -v --global-option=\"amp\"\n"
          ],
          "name": "stderr"
        }
      ]
    },
    {
      "cell_type": "markdown",
      "metadata": {
        "id": "6j3h8KSQy6i9",
        "colab_type": "text"
      },
      "source": [
        "# The model related code. Load the model from the conf file. "
      ]
    },
    {
      "cell_type": "code",
      "metadata": {
        "id": "ZBByuJphCeFY",
        "colab_type": "code",
        "outputId": "5f6de34f-8940-4c83-a59c-bbb8b1fca3b4",
        "colab": {
          "base_uri": "https://localhost:8080/",
          "height": 34
        }
      },
      "source": [
        "\n",
        "if conf.custom_model['use']:\n",
        "  #use custom model\n",
        "  pass\n",
        "elif conf.inbuilt_model['use']:\n",
        "  from ipynb.fs.full.model.pytorch_resnet import *\n",
        "  from ipynb.fs.full.model.resnet import *\n",
        "  from ipynb.fs.full.model.QuizDNN import *\n",
        "  model_type = conf.inbuilt_model['model']\n",
        "  if model_type == 'DenseNet':\n",
        "    net = globals()[model_type](growthRate=12, depth=50, reduction=0.5,\n",
        "                            bottleneck=True, nClasses=10)\n",
        "  else:\n",
        "    net = globals()[model_type]()\n",
        "  #net = torchvision.models.resnet18(pretrained=False)"
      ],
      "execution_count": 4,
      "outputs": [
        {
          "output_type": "stream",
          "text": [
            "Current Date/Time:  2020-04-01 17:01:52.168270\n"
          ],
          "name": "stdout"
        }
      ]
    },
    {
      "cell_type": "markdown",
      "metadata": {
        "id": "mbMge72lKtsR",
        "colab_type": "text"
      },
      "source": [
        "# Model Summary"
      ]
    },
    {
      "cell_type": "code",
      "metadata": {
        "id": "4ETlERRiKMIF",
        "colab_type": "code",
        "outputId": "9693fefc-b58e-4351-b8df-2d685356870a",
        "colab": {
          "base_uri": "https://localhost:8080/",
          "height": 1000
        }
      },
      "source": [
        "use_cuda = torch.cuda.is_available()\n",
        "if use_cuda:\n",
        "  torch.cuda.manual_seed(conf.seed)\n",
        "device = torch.device(\"cuda\" if use_cuda else \"cpu\")\n",
        "print(device)\n",
        "model = net.to(device)\n",
        "summary(model, input_size=(3, 32, 32))"
      ],
      "execution_count": 5,
      "outputs": [
        {
          "output_type": "stream",
          "text": [
            "cuda\n",
            "----------------------------------------------------------------\n",
            "        Layer (type)               Output Shape         Param #\n",
            "================================================================\n",
            "            Conv2d-1           [-1, 24, 32, 32]             648\n",
            "       BatchNorm2d-2           [-1, 24, 32, 32]              48\n",
            "            Conv2d-3           [-1, 48, 32, 32]           1,152\n",
            "       BatchNorm2d-4           [-1, 48, 32, 32]              96\n",
            "            Conv2d-5           [-1, 12, 32, 32]           5,184\n",
            "        Bottleneck-6           [-1, 36, 32, 32]               0\n",
            "       BatchNorm2d-7           [-1, 36, 32, 32]              72\n",
            "            Conv2d-8           [-1, 48, 32, 32]           1,728\n",
            "       BatchNorm2d-9           [-1, 48, 32, 32]              96\n",
            "           Conv2d-10           [-1, 12, 32, 32]           5,184\n",
            "       Bottleneck-11           [-1, 48, 32, 32]               0\n",
            "      BatchNorm2d-12           [-1, 48, 32, 32]              96\n",
            "           Conv2d-13           [-1, 48, 32, 32]           2,304\n",
            "      BatchNorm2d-14           [-1, 48, 32, 32]              96\n",
            "           Conv2d-15           [-1, 12, 32, 32]           5,184\n",
            "       Bottleneck-16           [-1, 60, 32, 32]               0\n",
            "      BatchNorm2d-17           [-1, 60, 32, 32]             120\n",
            "           Conv2d-18           [-1, 48, 32, 32]           2,880\n",
            "      BatchNorm2d-19           [-1, 48, 32, 32]              96\n",
            "           Conv2d-20           [-1, 12, 32, 32]           5,184\n",
            "       Bottleneck-21           [-1, 72, 32, 32]               0\n",
            "      BatchNorm2d-22           [-1, 72, 32, 32]             144\n",
            "           Conv2d-23           [-1, 48, 32, 32]           3,456\n",
            "      BatchNorm2d-24           [-1, 48, 32, 32]              96\n",
            "           Conv2d-25           [-1, 12, 32, 32]           5,184\n",
            "       Bottleneck-26           [-1, 84, 32, 32]               0\n",
            "      BatchNorm2d-27           [-1, 84, 32, 32]             168\n",
            "           Conv2d-28           [-1, 48, 32, 32]           4,032\n",
            "      BatchNorm2d-29           [-1, 48, 32, 32]              96\n",
            "           Conv2d-30           [-1, 12, 32, 32]           5,184\n",
            "       Bottleneck-31           [-1, 96, 32, 32]               0\n",
            "      BatchNorm2d-32           [-1, 96, 32, 32]             192\n",
            "           Conv2d-33           [-1, 48, 32, 32]           4,608\n",
            "      BatchNorm2d-34           [-1, 48, 32, 32]              96\n",
            "           Conv2d-35           [-1, 12, 32, 32]           5,184\n",
            "       Bottleneck-36          [-1, 108, 32, 32]               0\n",
            "      BatchNorm2d-37          [-1, 108, 32, 32]             216\n",
            "           Conv2d-38           [-1, 54, 32, 32]           5,832\n",
            "       Transition-39           [-1, 54, 16, 16]               0\n",
            "      BatchNorm2d-40           [-1, 54, 16, 16]             108\n",
            "           Conv2d-41           [-1, 48, 16, 16]           2,592\n",
            "      BatchNorm2d-42           [-1, 48, 16, 16]              96\n",
            "           Conv2d-43           [-1, 12, 16, 16]           5,184\n",
            "       Bottleneck-44           [-1, 66, 16, 16]               0\n",
            "      BatchNorm2d-45           [-1, 66, 16, 16]             132\n",
            "           Conv2d-46           [-1, 48, 16, 16]           3,168\n",
            "      BatchNorm2d-47           [-1, 48, 16, 16]              96\n",
            "           Conv2d-48           [-1, 12, 16, 16]           5,184\n",
            "       Bottleneck-49           [-1, 78, 16, 16]               0\n",
            "      BatchNorm2d-50           [-1, 78, 16, 16]             156\n",
            "           Conv2d-51           [-1, 48, 16, 16]           3,744\n",
            "      BatchNorm2d-52           [-1, 48, 16, 16]              96\n",
            "           Conv2d-53           [-1, 12, 16, 16]           5,184\n",
            "       Bottleneck-54           [-1, 90, 16, 16]               0\n",
            "      BatchNorm2d-55           [-1, 90, 16, 16]             180\n",
            "           Conv2d-56           [-1, 48, 16, 16]           4,320\n",
            "      BatchNorm2d-57           [-1, 48, 16, 16]              96\n",
            "           Conv2d-58           [-1, 12, 16, 16]           5,184\n",
            "       Bottleneck-59          [-1, 102, 16, 16]               0\n",
            "      BatchNorm2d-60          [-1, 102, 16, 16]             204\n",
            "           Conv2d-61           [-1, 48, 16, 16]           4,896\n",
            "      BatchNorm2d-62           [-1, 48, 16, 16]              96\n",
            "           Conv2d-63           [-1, 12, 16, 16]           5,184\n",
            "       Bottleneck-64          [-1, 114, 16, 16]               0\n",
            "      BatchNorm2d-65          [-1, 114, 16, 16]             228\n",
            "           Conv2d-66           [-1, 48, 16, 16]           5,472\n",
            "      BatchNorm2d-67           [-1, 48, 16, 16]              96\n",
            "           Conv2d-68           [-1, 12, 16, 16]           5,184\n",
            "       Bottleneck-69          [-1, 126, 16, 16]               0\n",
            "      BatchNorm2d-70          [-1, 126, 16, 16]             252\n",
            "           Conv2d-71           [-1, 48, 16, 16]           6,048\n",
            "      BatchNorm2d-72           [-1, 48, 16, 16]              96\n",
            "           Conv2d-73           [-1, 12, 16, 16]           5,184\n",
            "       Bottleneck-74          [-1, 138, 16, 16]               0\n",
            "      BatchNorm2d-75          [-1, 138, 16, 16]             276\n",
            "           Conv2d-76           [-1, 69, 16, 16]           9,522\n",
            "       Transition-77             [-1, 69, 8, 8]               0\n",
            "      BatchNorm2d-78             [-1, 69, 8, 8]             138\n",
            "           Conv2d-79             [-1, 48, 8, 8]           3,312\n",
            "      BatchNorm2d-80             [-1, 48, 8, 8]              96\n",
            "           Conv2d-81             [-1, 12, 8, 8]           5,184\n",
            "       Bottleneck-82             [-1, 81, 8, 8]               0\n",
            "      BatchNorm2d-83             [-1, 81, 8, 8]             162\n",
            "           Conv2d-84             [-1, 48, 8, 8]           3,888\n",
            "      BatchNorm2d-85             [-1, 48, 8, 8]              96\n",
            "           Conv2d-86             [-1, 12, 8, 8]           5,184\n",
            "       Bottleneck-87             [-1, 93, 8, 8]               0\n",
            "      BatchNorm2d-88             [-1, 93, 8, 8]             186\n",
            "           Conv2d-89             [-1, 48, 8, 8]           4,464\n",
            "      BatchNorm2d-90             [-1, 48, 8, 8]              96\n",
            "           Conv2d-91             [-1, 12, 8, 8]           5,184\n",
            "       Bottleneck-92            [-1, 105, 8, 8]               0\n",
            "      BatchNorm2d-93            [-1, 105, 8, 8]             210\n",
            "           Conv2d-94             [-1, 48, 8, 8]           5,040\n",
            "      BatchNorm2d-95             [-1, 48, 8, 8]              96\n",
            "           Conv2d-96             [-1, 12, 8, 8]           5,184\n",
            "       Bottleneck-97            [-1, 117, 8, 8]               0\n",
            "      BatchNorm2d-98            [-1, 117, 8, 8]             234\n",
            "           Conv2d-99             [-1, 48, 8, 8]           5,616\n",
            "     BatchNorm2d-100             [-1, 48, 8, 8]              96\n",
            "          Conv2d-101             [-1, 12, 8, 8]           5,184\n",
            "      Bottleneck-102            [-1, 129, 8, 8]               0\n",
            "     BatchNorm2d-103            [-1, 129, 8, 8]             258\n",
            "          Conv2d-104             [-1, 48, 8, 8]           6,192\n",
            "     BatchNorm2d-105             [-1, 48, 8, 8]              96\n",
            "          Conv2d-106             [-1, 12, 8, 8]           5,184\n",
            "      Bottleneck-107            [-1, 141, 8, 8]               0\n",
            "     BatchNorm2d-108            [-1, 141, 8, 8]             282\n",
            "          Conv2d-109             [-1, 48, 8, 8]           6,768\n",
            "     BatchNorm2d-110             [-1, 48, 8, 8]              96\n",
            "          Conv2d-111             [-1, 12, 8, 8]           5,184\n",
            "      Bottleneck-112            [-1, 153, 8, 8]               0\n",
            "     BatchNorm2d-113            [-1, 153, 8, 8]             306\n",
            "          Linear-114                   [-1, 10]           1,540\n",
            "================================================================\n",
            "Total params: 218,470\n",
            "Trainable params: 218,470\n",
            "Non-trainable params: 0\n",
            "----------------------------------------------------------------\n",
            "Input size (MB): 0.01\n",
            "Forward/backward pass size (MB): 20.43\n",
            "Params size (MB): 0.83\n",
            "Estimated Total Size (MB): 21.27\n",
            "----------------------------------------------------------------\n"
          ],
          "name": "stdout"
        },
        {
          "output_type": "stream",
          "text": [
            "ipynb.fs.full.model.QuizDNN:123: UserWarning: Implicit dimension choice for log_softmax has been deprecated. Change the call to include dim=X as an argument.\n"
          ],
          "name": "stderr"
        }
      ]
    },
    {
      "cell_type": "markdown",
      "metadata": {
        "id": "S3bK-NwxqDwZ",
        "colab_type": "text"
      },
      "source": [
        "# Test and Train loader"
      ]
    },
    {
      "cell_type": "code",
      "metadata": {
        "id": "fumtHUHFqVQI",
        "colab_type": "code",
        "outputId": "e2b6e8d2-7873-49e7-a94e-be9194fb1ebd",
        "colab": {
          "base_uri": "https://localhost:8080/",
          "height": 34
        }
      },
      "source": [
        "criterion = nn.CrossEntropyLoss()\n",
        "optimizer = optim.SGD(net.parameters(), **conf.optimizer_parameters)\n",
        "\n",
        "data_loader_obj = DataLoaderA(conf, './data')\n",
        "train_loader = data_loader_obj.get_train_loader()\n",
        "test_loader = data_loader_obj.get_test_loader()\n"
      ],
      "execution_count": 6,
      "outputs": [
        {
          "output_type": "stream",
          "text": [
            "Files already downloaded and verified\n"
          ],
          "name": "stdout"
        }
      ]
    },
    {
      "cell_type": "markdown",
      "metadata": {
        "id": "6GpsEK97qhtY",
        "colab_type": "text"
      },
      "source": [
        "# Visualize the transformed images"
      ]
    },
    {
      "cell_type": "code",
      "metadata": {
        "id": "ArMatnuiqmy5",
        "colab_type": "code",
        "outputId": "eb85abe6-546b-485f-baa2-efbd01e99694",
        "colab": {
          "base_uri": "https://localhost:8080/",
          "height": 1000
        }
      },
      "source": [
        "classes = {\n",
        "    0 : \"airplane\",\n",
        "    1 : \"automobile\",\n",
        "    2 : \"bird\",\n",
        "    3 : \"cat\",\n",
        "    4 : \"deer\",\n",
        "    5 : \"dog\",\n",
        "    6 : \"frog\",\n",
        "    7 : \"horse\",\n",
        "    8 : \"ship\",\n",
        "    9 : \"truck\",\n",
        "}\n",
        "\n",
        "images, labels = next(iter(train_loader))\n",
        "images = images.numpy()  # convert images to numpy for display\n",
        "\n",
        "# plot the images in the batch, along with the corresponding labels\n",
        "fig = plt.figure(figsize=(32, 32))\n",
        "# display 20 images\n",
        "for idx in np.arange(20):\n",
        "    ax = fig.add_subplot(2, 20 / 2, idx + 1, xticks=[], yticks=[])\n",
        "    ax.imshow(images[idx].transpose((1, 2, 0)))\n",
        "    ax.set_title(classes[labels[idx].item()])"
      ],
      "execution_count": 7,
      "outputs": [
        {
          "output_type": "stream",
          "text": [
            "WARNING:matplotlib.image:Clipping input data to the valid range for imshow with RGB data ([0..1] for floats or [0..255] for integers).\n",
            "WARNING:matplotlib.image:Clipping input data to the valid range for imshow with RGB data ([0..1] for floats or [0..255] for integers).\n",
            "WARNING:matplotlib.image:Clipping input data to the valid range for imshow with RGB data ([0..1] for floats or [0..255] for integers).\n",
            "WARNING:matplotlib.image:Clipping input data to the valid range for imshow with RGB data ([0..1] for floats or [0..255] for integers).\n",
            "WARNING:matplotlib.image:Clipping input data to the valid range for imshow with RGB data ([0..1] for floats or [0..255] for integers).\n",
            "WARNING:matplotlib.image:Clipping input data to the valid range for imshow with RGB data ([0..1] for floats or [0..255] for integers).\n",
            "WARNING:matplotlib.image:Clipping input data to the valid range for imshow with RGB data ([0..1] for floats or [0..255] for integers).\n",
            "WARNING:matplotlib.image:Clipping input data to the valid range for imshow with RGB data ([0..1] for floats or [0..255] for integers).\n",
            "WARNING:matplotlib.image:Clipping input data to the valid range for imshow with RGB data ([0..1] for floats or [0..255] for integers).\n",
            "WARNING:matplotlib.image:Clipping input data to the valid range for imshow with RGB data ([0..1] for floats or [0..255] for integers).\n",
            "WARNING:matplotlib.image:Clipping input data to the valid range for imshow with RGB data ([0..1] for floats or [0..255] for integers).\n",
            "WARNING:matplotlib.image:Clipping input data to the valid range for imshow with RGB data ([0..1] for floats or [0..255] for integers).\n",
            "WARNING:matplotlib.image:Clipping input data to the valid range for imshow with RGB data ([0..1] for floats or [0..255] for integers).\n",
            "WARNING:matplotlib.image:Clipping input data to the valid range for imshow with RGB data ([0..1] for floats or [0..255] for integers).\n",
            "WARNING:matplotlib.image:Clipping input data to the valid range for imshow with RGB data ([0..1] for floats or [0..255] for integers).\n",
            "WARNING:matplotlib.image:Clipping input data to the valid range for imshow with RGB data ([0..1] for floats or [0..255] for integers).\n",
            "WARNING:matplotlib.image:Clipping input data to the valid range for imshow with RGB data ([0..1] for floats or [0..255] for integers).\n",
            "WARNING:matplotlib.image:Clipping input data to the valid range for imshow with RGB data ([0..1] for floats or [0..255] for integers).\n",
            "WARNING:matplotlib.image:Clipping input data to the valid range for imshow with RGB data ([0..1] for floats or [0..255] for integers).\n",
            "WARNING:matplotlib.image:Clipping input data to the valid range for imshow with RGB data ([0..1] for floats or [0..255] for integers).\n"
          ],
          "name": "stderr"
        },
        {
          "output_type": "display_data",
          "data": {
            "image/png": "[encoded data removed]",
            "text/plain": [
              "<Figure size 2304x2304 with 20 Axes>"
            ]
          },
          "metadata": {
            "tags": []
          }
        }
      ]
    },
    {
      "cell_type": "markdown",
      "metadata": {
        "id": "7iLc5mJXpx9d",
        "colab_type": "text"
      },
      "source": [
        "# Find the best LR"
      ]
    },
    {
      "cell_type": "code",
      "metadata": {
        "id": "WQiyyz8mp44F",
        "colab_type": "code",
        "outputId": "03c98f2f-ed39-4961-d157-11392c161f0f",
        "colab": {
          "base_uri": "https://localhost:8080/",
          "height": 400,
          "referenced_widgets": [
            "849542969485437ea3e9352cfe82989e",
            "42cb7ac26d2343f4947f93a86df91e1a",
            "3ad3f6d0b78f457d98c036b5b8690465",
            "f306035f7e9c4c6a880cabbf0be52467",
            "df692163836040bd8986ee0516fb1330",
            "a0c0f0dc0c1840d2b8b60dad8f6f0e8b",
            "0e751504d0144a1da51d4c5ace8f148b",
            "1bd9ac8f6fca4473a3c3123c184bd8fa"
          ]
        }
      },
      "source": [
        "if conf.use_lr_finder_train:\n",
        "  lr_finder = LRFinder(model, optimizer, criterion, device) #implemented LRFinder for SGD\n",
        "  lr_finder.range_test(train_loader, end_lr=100, num_iter=400, step_mode=\"exp\")\n",
        "  lr_finder.plot() # to inspect the loss-learning rate graph\n",
        "  #print(lr_finder.history) # see the history\n",
        "  best_loss = lr_finder.best_loss\n",
        "  print(min(lr_finder.history['lr']))\n",
        "  print(lr_finder.history['lr'][lr_finder.history['loss'].index(best_loss)])\n",
        "  optimizer.lr = lr_finder.history['lr'][lr_finder.history['loss'].index(best_loss)]\n",
        "  lr_finder.reset()\n",
        "\n",
        "scheduler = ReduceLROnPlateau(optimizer, mode=conf.mode, \n",
        "                              factor=conf.factor, patience=conf.patience,\n",
        "                              verbose=conf.verbose, min_lr=1e-4)\n",
        "#scheduler = StepLR(optimizer, lr_step_size, gamma=0.1)"
      ],
      "execution_count": 8,
      "outputs": [
        {
          "output_type": "display_data",
          "data": {
            "application/vnd.jupyter.widget-view+json": {
              "model_id": "849542969485437ea3e9352cfe82989e",
              "version_minor": 0,
              "version_major": 2
            },
            "text/plain": [
              "HBox(children=(IntProgress(value=0, max=400), HTML(value='')))"
            ]
          },
          "metadata": {
            "tags": []
          }
        },
        {
          "output_type": "stream",
          "text": [
            "ipynb.fs.full.model.QuizDNN:123: UserWarning: Implicit dimension choice for log_softmax has been deprecated. Change the call to include dim=X as an argument.\n"
          ],
          "name": "stderr"
        },
        {
          "output_type": "stream",
          "text": [
            "Stopping early, the loss has diverged\n",
            "Learning rate search finished. See the graph with {finder_name}.plot()\n"
          ],
          "name": "stdout"
        },
        {
          "output_type": "display_data",
          "data": {
            "image/png": "[encoded data removed]",
            "text/plain": [
              "<Figure size 432x288 with 1 Axes>"
            ]
          },
          "metadata": {
            "tags": []
          }
        },
        {
          "output_type": "stream",
          "text": [
            "0.010471285480508996\n",
            "1.2882495516931338\n"
          ],
          "name": "stdout"
        }
      ]
    },
    {
      "cell_type": "markdown",
      "metadata": {
        "id": "zoZ4pvtz7ffo",
        "colab_type": "text"
      },
      "source": [
        "# Test and Train"
      ]
    },
    {
      "cell_type": "code",
      "metadata": {
        "id": "wCZtd2ULCeFc",
        "colab_type": "code",
        "outputId": "fbbd58a8-c3e1-4d3e-b3ff-d201efd27122",
        "colab": {
          "base_uri": "https://localhost:8080/",
          "height": 1000
        }
      },
      "source": [
        "# Containers to plot the graph for test and train\n",
        "test_losses = []\n",
        "test_acc = []\n",
        "train_losses = []\n",
        "train_acc = []\n",
        "\n",
        "# Containers for correctly and falsely predicted images\n",
        "correct_predicted = []\n",
        "false_predicted = []\n",
        "\n",
        "# Number of images to display which are correct and false predicted\n",
        "sample_count = 25\n",
        "\n",
        "# TODO: Take the end epoch value from conf file \n",
        "for e in range(1, 50):\n",
        "    print(\"epoch no: \" , e)\n",
        "    train_model(model, device, \n",
        "                train_loader, optimizer, \n",
        "                criterion, e,\n",
        "                train_losses, train_acc)\n",
        "    \n",
        "    test_loss = test_model(model, device, \n",
        "                           test_loader, criterion, \n",
        "                           2, sample_count,\n",
        "                           correct_predicted, false_predicted, \n",
        "                           test_losses, test_acc)\n",
        "    scheduler.step(test_loss)\n",
        "    print(\"===========================================================\\n\")\n",
        "\n"
      ],
      "execution_count": 9,
      "outputs": [
        {
          "output_type": "stream",
          "text": [
            "\r  0%|          | 0/782 [00:00<?, ?it/s]"
          ],
          "name": "stderr"
        },
        {
          "output_type": "stream",
          "text": [
            "epoch no:  1\n"
          ],
          "name": "stdout"
        },
        {
          "output_type": "stream",
          "text": [
            "ipynb.fs.full.model.QuizDNN:123: UserWarning: Implicit dimension choice for log_softmax has been deprecated. Change the call to include dim=X as an argument.\n",
            "/usr/local/lib/python3.6/dist-packages/torch/nn/_reduction.py:43: UserWarning: size_average and reduce args will be deprecated, please use reduction='sum' instead.\n",
            "  warnings.warn(warning.format(ret))\n",
            "Loss=13.49488639831543 Batch_id=781 Accuracy=34.43: 100%|██████████| 782/782 [01:03<00:00, 12.34it/s]\n",
            "  0%|          | 0/782 [00:00<?, ?it/s]"
          ],
          "name": "stderr"
        },
        {
          "output_type": "stream",
          "text": [
            "\n",
            "Test set: Average loss: 1.5309, Accuracy: 4327/10000 (43.27%)\n",
            "\n",
            "===========================================================\n",
            "\n",
            "epoch no:  2\n"
          ],
          "name": "stdout"
        },
        {
          "output_type": "stream",
          "text": [
            "Loss=10.469635963439941 Batch_id=781 Accuracy=46.75: 100%|██████████| 782/782 [01:03<00:00, 12.41it/s]\n",
            "  0%|          | 0/782 [00:00<?, ?it/s]"
          ],
          "name": "stderr"
        },
        {
          "output_type": "stream",
          "text": [
            "\n",
            "Test set: Average loss: 1.5098, Accuracy: 4724/10000 (47.24%)\n",
            "\n",
            "===========================================================\n",
            "\n",
            "epoch no:  3\n"
          ],
          "name": "stdout"
        },
        {
          "output_type": "stream",
          "text": [
            "Loss=7.975755214691162 Batch_id=781 Accuracy=53.00: 100%|██████████| 782/782 [01:03<00:00, 12.39it/s]\n",
            "  0%|          | 0/782 [00:00<?, ?it/s]"
          ],
          "name": "stderr"
        },
        {
          "output_type": "stream",
          "text": [
            "\n",
            "Test set: Average loss: 1.5782, Accuracy: 4741/10000 (47.41%)\n",
            "\n",
            "===========================================================\n",
            "\n",
            "epoch no:  4\n"
          ],
          "name": "stdout"
        },
        {
          "output_type": "stream",
          "text": [
            "Loss=6.410897254943848 Batch_id=781 Accuracy=56.29: 100%|██████████| 782/782 [01:03<00:00, 12.33it/s]\n",
            "  0%|          | 0/782 [00:00<?, ?it/s]"
          ],
          "name": "stderr"
        },
        {
          "output_type": "stream",
          "text": [
            "\n",
            "Test set: Average loss: 1.6944, Accuracy: 4364/10000 (43.64%)\n",
            "\n",
            "===========================================================\n",
            "\n",
            "epoch no:  5\n"
          ],
          "name": "stdout"
        },
        {
          "output_type": "stream",
          "text": [
            "Loss=4.874287128448486 Batch_id=781 Accuracy=59.16: 100%|██████████| 782/782 [01:02<00:00, 12.53it/s]\n",
            "  0%|          | 0/782 [00:00<?, ?it/s]"
          ],
          "name": "stderr"
        },
        {
          "output_type": "stream",
          "text": [
            "\n",
            "Test set: Average loss: 1.1442, Accuracy: 5852/10000 (58.52%)\n",
            "\n",
            "===========================================================\n",
            "\n",
            "epoch no:  6\n"
          ],
          "name": "stdout"
        },
        {
          "output_type": "stream",
          "text": [
            "Loss=4.507008075714111 Batch_id=781 Accuracy=60.29: 100%|██████████| 782/782 [01:01<00:00, 12.63it/s]\n",
            "  0%|          | 0/782 [00:00<?, ?it/s]"
          ],
          "name": "stderr"
        },
        {
          "output_type": "stream",
          "text": [
            "\n",
            "Test set: Average loss: 1.6776, Accuracy: 4868/10000 (48.68%)\n",
            "\n",
            "===========================================================\n",
            "\n",
            "epoch no:  7\n"
          ],
          "name": "stdout"
        },
        {
          "output_type": "stream",
          "text": [
            "Loss=3.5411124229431152 Batch_id=781 Accuracy=61.68: 100%|██████████| 782/782 [01:02<00:00, 12.59it/s]\n",
            "  0%|          | 0/782 [00:00<?, ?it/s]"
          ],
          "name": "stderr"
        },
        {
          "output_type": "stream",
          "text": [
            "\n",
            "Test set: Average loss: 1.4011, Accuracy: 5641/10000 (56.41%)\n",
            "\n",
            "===========================================================\n",
            "\n",
            "epoch no:  8\n"
          ],
          "name": "stdout"
        },
        {
          "output_type": "stream",
          "text": [
            "Loss=3.167161703109741 Batch_id=781 Accuracy=62.93: 100%|██████████| 782/782 [01:04<00:00, 12.12it/s]\n",
            "  0%|          | 0/782 [00:00<?, ?it/s]"
          ],
          "name": "stderr"
        },
        {
          "output_type": "stream",
          "text": [
            "\n",
            "Test set: Average loss: 1.2255, Accuracy: 5839/10000 (58.39%)\n",
            "\n",
            "Epoch     8: reducing learning rate of group 0 to 1.0000e-04.\n",
            "===========================================================\n",
            "\n",
            "epoch no:  9\n"
          ],
          "name": "stdout"
        },
        {
          "output_type": "stream",
          "text": [
            "Loss=3.7592530250549316 Batch_id=781 Accuracy=68.64: 100%|██████████| 782/782 [01:04<00:00, 12.17it/s]\n",
            "  0%|          | 0/782 [00:00<?, ?it/s]"
          ],
          "name": "stderr"
        },
        {
          "output_type": "stream",
          "text": [
            "\n",
            "Test set: Average loss: 0.8115, Accuracy: 7102/10000 (71.02%)\n",
            "\n",
            "===========================================================\n",
            "\n",
            "epoch no:  10\n"
          ],
          "name": "stdout"
        },
        {
          "output_type": "stream",
          "text": [
            "Loss=3.6740665435791016 Batch_id=781 Accuracy=70.82: 100%|██████████| 782/782 [01:03<00:00, 12.38it/s]\n",
            "  0%|          | 0/782 [00:00<?, ?it/s]"
          ],
          "name": "stderr"
        },
        {
          "output_type": "stream",
          "text": [
            "\n",
            "Test set: Average loss: 0.7919, Accuracy: 7154/10000 (71.54%)\n",
            "\n",
            "===========================================================\n",
            "\n",
            "epoch no:  11\n"
          ],
          "name": "stdout"
        },
        {
          "output_type": "stream",
          "text": [
            "Loss=3.266862630844116 Batch_id=781 Accuracy=71.66: 100%|██████████| 782/782 [01:03<00:00, 12.33it/s]\n",
            "  0%|          | 0/782 [00:00<?, ?it/s]"
          ],
          "name": "stderr"
        },
        {
          "output_type": "stream",
          "text": [
            "\n",
            "Test set: Average loss: 0.7845, Accuracy: 7220/10000 (72.20%)\n",
            "\n",
            "===========================================================\n",
            "\n",
            "epoch no:  12\n"
          ],
          "name": "stdout"
        },
        {
          "output_type": "stream",
          "text": [
            "Loss=3.26739764213562 Batch_id=781 Accuracy=72.14: 100%|██████████| 782/782 [01:03<00:00, 12.33it/s]\n",
            "  0%|          | 0/782 [00:00<?, ?it/s]"
          ],
          "name": "stderr"
        },
        {
          "output_type": "stream",
          "text": [
            "\n",
            "Test set: Average loss: 0.7657, Accuracy: 7297/10000 (72.97%)\n",
            "\n",
            "===========================================================\n",
            "\n",
            "epoch no:  13\n"
          ],
          "name": "stdout"
        },
        {
          "output_type": "stream",
          "text": [
            "Loss=3.2344584465026855 Batch_id=781 Accuracy=72.22: 100%|██████████| 782/782 [01:03<00:00, 12.38it/s]\n",
            "  0%|          | 0/782 [00:00<?, ?it/s]"
          ],
          "name": "stderr"
        },
        {
          "output_type": "stream",
          "text": [
            "\n",
            "Test set: Average loss: 0.7550, Accuracy: 7348/10000 (73.48%)\n",
            "\n",
            "===========================================================\n",
            "\n",
            "epoch no:  14\n"
          ],
          "name": "stdout"
        },
        {
          "output_type": "stream",
          "text": [
            "Loss=3.2225165367126465 Batch_id=781 Accuracy=72.24: 100%|██████████| 782/782 [01:03<00:00, 12.34it/s]\n",
            "  0%|          | 0/782 [00:00<?, ?it/s]"
          ],
          "name": "stderr"
        },
        {
          "output_type": "stream",
          "text": [
            "\n",
            "Test set: Average loss: 0.7511, Accuracy: 7384/10000 (73.84%)\n",
            "\n",
            "===========================================================\n",
            "\n",
            "epoch no:  15\n"
          ],
          "name": "stdout"
        },
        {
          "output_type": "stream",
          "text": [
            "Loss=3.4320545196533203 Batch_id=781 Accuracy=72.79: 100%|██████████| 782/782 [01:03<00:00, 12.39it/s]\n",
            "  0%|          | 0/782 [00:00<?, ?it/s]"
          ],
          "name": "stderr"
        },
        {
          "output_type": "stream",
          "text": [
            "\n",
            "Test set: Average loss: 0.7342, Accuracy: 7446/10000 (74.46%)\n",
            "\n",
            "===========================================================\n",
            "\n",
            "epoch no:  16\n"
          ],
          "name": "stdout"
        },
        {
          "output_type": "stream",
          "text": [
            "Loss=2.780534505844116 Batch_id=781 Accuracy=72.97: 100%|██████████| 782/782 [01:03<00:00, 12.37it/s]\n",
            "  0%|          | 0/782 [00:00<?, ?it/s]"
          ],
          "name": "stderr"
        },
        {
          "output_type": "stream",
          "text": [
            "\n",
            "Test set: Average loss: 0.7346, Accuracy: 7414/10000 (74.14%)\n",
            "\n",
            "===========================================================\n",
            "\n",
            "epoch no:  17\n"
          ],
          "name": "stdout"
        },
        {
          "output_type": "stream",
          "text": [
            "Loss=3.018932819366455 Batch_id=781 Accuracy=73.39: 100%|██████████| 782/782 [01:03<00:00, 12.41it/s]\n",
            "  0%|          | 0/782 [00:00<?, ?it/s]"
          ],
          "name": "stderr"
        },
        {
          "output_type": "stream",
          "text": [
            "\n",
            "Test set: Average loss: 0.7203, Accuracy: 7475/10000 (74.75%)\n",
            "\n",
            "===========================================================\n",
            "\n",
            "epoch no:  18\n"
          ],
          "name": "stdout"
        },
        {
          "output_type": "stream",
          "text": [
            "Loss=2.9704384803771973 Batch_id=781 Accuracy=73.47: 100%|██████████| 782/782 [01:02<00:00, 12.45it/s]\n",
            "  0%|          | 0/782 [00:00<?, ?it/s]"
          ],
          "name": "stderr"
        },
        {
          "output_type": "stream",
          "text": [
            "\n",
            "Test set: Average loss: 0.7220, Accuracy: 7468/10000 (74.68%)\n",
            "\n",
            "===========================================================\n",
            "\n",
            "epoch no:  19\n"
          ],
          "name": "stdout"
        },
        {
          "output_type": "stream",
          "text": [
            "Loss=2.762512683868408 Batch_id=781 Accuracy=73.42: 100%|██████████| 782/782 [01:02<00:00, 12.50it/s]\n",
            "  0%|          | 0/782 [00:00<?, ?it/s]"
          ],
          "name": "stderr"
        },
        {
          "output_type": "stream",
          "text": [
            "\n",
            "Test set: Average loss: 0.7111, Accuracy: 7500/10000 (75.00%)\n",
            "\n",
            "===========================================================\n",
            "\n",
            "epoch no:  20\n"
          ],
          "name": "stdout"
        },
        {
          "output_type": "stream",
          "text": [
            "Loss=3.4420201778411865 Batch_id=781 Accuracy=73.99: 100%|██████████| 782/782 [01:03<00:00, 12.28it/s]\n",
            "  0%|          | 0/782 [00:00<?, ?it/s]"
          ],
          "name": "stderr"
        },
        {
          "output_type": "stream",
          "text": [
            "\n",
            "Test set: Average loss: 0.7334, Accuracy: 7426/10000 (74.26%)\n",
            "\n",
            "===========================================================\n",
            "\n",
            "epoch no:  21\n"
          ],
          "name": "stdout"
        },
        {
          "output_type": "stream",
          "text": [
            "Loss=3.1628026962280273 Batch_id=781 Accuracy=73.98: 100%|██████████| 782/782 [01:02<00:00, 12.54it/s]\n",
            "  0%|          | 0/782 [00:00<?, ?it/s]"
          ],
          "name": "stderr"
        },
        {
          "output_type": "stream",
          "text": [
            "\n",
            "Test set: Average loss: 0.7192, Accuracy: 7478/10000 (74.78%)\n",
            "\n",
            "===========================================================\n",
            "\n",
            "epoch no:  22\n"
          ],
          "name": "stdout"
        },
        {
          "output_type": "stream",
          "text": [
            "Loss=2.7632453441619873 Batch_id=781 Accuracy=74.00: 100%|██████████| 782/782 [01:01<00:00, 12.64it/s]\n",
            "  0%|          | 0/782 [00:00<?, ?it/s]"
          ],
          "name": "stderr"
        },
        {
          "output_type": "stream",
          "text": [
            "\n",
            "Test set: Average loss: 0.6999, Accuracy: 7572/10000 (75.72%)\n",
            "\n",
            "===========================================================\n",
            "\n",
            "epoch no:  23\n"
          ],
          "name": "stdout"
        },
        {
          "output_type": "stream",
          "text": [
            "Loss=3.190938949584961 Batch_id=781 Accuracy=74.39: 100%|██████████| 782/782 [01:01<00:00, 12.63it/s]\n",
            "  0%|          | 0/782 [00:00<?, ?it/s]"
          ],
          "name": "stderr"
        },
        {
          "output_type": "stream",
          "text": [
            "\n",
            "Test set: Average loss: 0.6919, Accuracy: 7565/10000 (75.65%)\n",
            "\n",
            "===========================================================\n",
            "\n",
            "epoch no:  24\n"
          ],
          "name": "stdout"
        },
        {
          "output_type": "stream",
          "text": [
            "Loss=2.8293075561523438 Batch_id=781 Accuracy=74.48: 100%|██████████| 782/782 [01:01<00:00, 12.71it/s]\n",
            "  0%|          | 0/782 [00:00<?, ?it/s]"
          ],
          "name": "stderr"
        },
        {
          "output_type": "stream",
          "text": [
            "\n",
            "Test set: Average loss: 0.6958, Accuracy: 7547/10000 (75.47%)\n",
            "\n",
            "===========================================================\n",
            "\n",
            "epoch no:  25\n"
          ],
          "name": "stdout"
        },
        {
          "output_type": "stream",
          "text": [
            "Loss=3.067197799682617 Batch_id=781 Accuracy=74.44: 100%|██████████| 782/782 [01:01<00:00, 12.69it/s]\n",
            "  0%|          | 0/782 [00:00<?, ?it/s]"
          ],
          "name": "stderr"
        },
        {
          "output_type": "stream",
          "text": [
            "\n",
            "Test set: Average loss: 0.6933, Accuracy: 7579/10000 (75.79%)\n",
            "\n",
            "===========================================================\n",
            "\n",
            "epoch no:  26\n"
          ],
          "name": "stdout"
        },
        {
          "output_type": "stream",
          "text": [
            "Loss=3.0218875408172607 Batch_id=781 Accuracy=74.89: 100%|██████████| 782/782 [01:01<00:00, 12.66it/s]\n",
            "  0%|          | 0/782 [00:00<?, ?it/s]"
          ],
          "name": "stderr"
        },
        {
          "output_type": "stream",
          "text": [
            "\n",
            "Test set: Average loss: 0.6891, Accuracy: 7591/10000 (75.91%)\n",
            "\n",
            "===========================================================\n",
            "\n",
            "epoch no:  27\n"
          ],
          "name": "stdout"
        },
        {
          "output_type": "stream",
          "text": [
            "Loss=2.9290621280670166 Batch_id=781 Accuracy=74.77: 100%|██████████| 782/782 [01:01<00:00, 12.65it/s]\n",
            "  0%|          | 0/782 [00:00<?, ?it/s]"
          ],
          "name": "stderr"
        },
        {
          "output_type": "stream",
          "text": [
            "\n",
            "Test set: Average loss: 0.6903, Accuracy: 7608/10000 (76.08%)\n",
            "\n",
            "===========================================================\n",
            "\n",
            "epoch no:  28\n"
          ],
          "name": "stdout"
        },
        {
          "output_type": "stream",
          "text": [
            "Loss=2.7292771339416504 Batch_id=781 Accuracy=74.88: 100%|██████████| 782/782 [01:04<00:00, 12.06it/s]\n",
            "  0%|          | 0/782 [00:00<?, ?it/s]"
          ],
          "name": "stderr"
        },
        {
          "output_type": "stream",
          "text": [
            "\n",
            "Test set: Average loss: 0.6756, Accuracy: 7647/10000 (76.47%)\n",
            "\n",
            "===========================================================\n",
            "\n",
            "epoch no:  29\n"
          ],
          "name": "stdout"
        },
        {
          "output_type": "stream",
          "text": [
            "Loss=2.540761947631836 Batch_id=781 Accuracy=74.87: 100%|██████████| 782/782 [01:03<00:00, 12.39it/s]\n",
            "  0%|          | 0/782 [00:00<?, ?it/s]"
          ],
          "name": "stderr"
        },
        {
          "output_type": "stream",
          "text": [
            "\n",
            "Test set: Average loss: 0.6598, Accuracy: 7714/10000 (77.14%)\n",
            "\n",
            "===========================================================\n",
            "\n",
            "epoch no:  30\n"
          ],
          "name": "stdout"
        },
        {
          "output_type": "stream",
          "text": [
            "Loss=3.091658353805542 Batch_id=781 Accuracy=75.10: 100%|██████████| 782/782 [01:02<00:00, 12.46it/s]\n",
            "  0%|          | 0/782 [00:00<?, ?it/s]"
          ],
          "name": "stderr"
        },
        {
          "output_type": "stream",
          "text": [
            "\n",
            "Test set: Average loss: 0.6948, Accuracy: 7579/10000 (75.79%)\n",
            "\n",
            "===========================================================\n",
            "\n",
            "epoch no:  31\n"
          ],
          "name": "stdout"
        },
        {
          "output_type": "stream",
          "text": [
            "Loss=2.52801513671875 Batch_id=781 Accuracy=75.49: 100%|██████████| 782/782 [01:03<00:00, 12.38it/s]\n",
            "  0%|          | 0/782 [00:00<?, ?it/s]"
          ],
          "name": "stderr"
        },
        {
          "output_type": "stream",
          "text": [
            "\n",
            "Test set: Average loss: 0.6891, Accuracy: 7623/10000 (76.23%)\n",
            "\n",
            "===========================================================\n",
            "\n",
            "epoch no:  32\n"
          ],
          "name": "stdout"
        },
        {
          "output_type": "stream",
          "text": [
            "Loss=2.871835470199585 Batch_id=517 Accuracy=75.45:  66%|██████▌   | 517/782 [00:42<00:21, 12.25it/s]"
          ],
          "name": "stderr"
        },
        {
          "output_type": "error",
          "ename": "KeyboardInterrupt",
          "evalue": "ignored",
          "traceback": [
            "\u001b[0;31m---------------------------------------------------------------------------\u001b[0m",
            "\u001b[0;31mKeyboardInterrupt\u001b[0m                         Traceback (most recent call last)",
            "\u001b[0;32m<ipython-input-9-b7291e11f98f>\u001b[0m in \u001b[0;36m<module>\u001b[0;34m()\u001b[0m\n\u001b[1;32m     17\u001b[0m                 \u001b[0mtrain_loader\u001b[0m\u001b[0;34m,\u001b[0m \u001b[0moptimizer\u001b[0m\u001b[0;34m,\u001b[0m\u001b[0;34m\u001b[0m\u001b[0;34m\u001b[0m\u001b[0m\n\u001b[1;32m     18\u001b[0m                 \u001b[0mcriterion\u001b[0m\u001b[0;34m,\u001b[0m \u001b[0me\u001b[0m\u001b[0;34m,\u001b[0m\u001b[0;34m\u001b[0m\u001b[0;34m\u001b[0m\u001b[0m\n\u001b[0;32m---> 19\u001b[0;31m                 train_losses, train_acc)\n\u001b[0m\u001b[1;32m     20\u001b[0m \u001b[0;34m\u001b[0m\u001b[0m\n\u001b[1;32m     21\u001b[0m     test_loss = test_model(model, device, \n",
            "\u001b[0;32m/content/drive/My Drive/Colab Notebooks/S8/train.ipynb\u001b[0m in \u001b[0;36mtrain_model\u001b[0;34m(model, device, train_loader, optimizer, criterion, epoch, train_losses, train_acc)\u001b[0m\n",
            "\u001b[0;31mKeyboardInterrupt\u001b[0m: "
          ]
        }
      ]
    },
    {
      "cell_type": "markdown",
      "metadata": {
        "id": "YwvWcH5lKpHr",
        "colab_type": "text"
      },
      "source": [
        "# *GradCam* for Resnet for falsely predicted images\n"
      ]
    },
    {
      "cell_type": "code",
      "metadata": {
        "id": "VOL2tb2MK0Lu",
        "colab_type": "code",
        "colab": {}
      },
      "source": [
        "\n",
        "images = [x['image'].unsqueeze(0) for x in false_predicted]\n",
        "inputs = [i.to(device) for i in images]\n",
        "gradcamof(model, inputs, classes)"
      ],
      "execution_count": 0,
      "outputs": []
    },
    {
      "cell_type": "markdown",
      "metadata": {
        "id": "wvejXOIJqCmy",
        "colab_type": "text"
      },
      "source": [
        "# Correctly predicted images"
      ]
    },
    {
      "cell_type": "code",
      "metadata": {
        "id": "IMHOMycBnwdJ",
        "colab_type": "code",
        "colab": {}
      },
      "source": [
        "matplotlib_imshow(classes, correct_predicted, plt, False)"
      ],
      "execution_count": 0,
      "outputs": []
    },
    {
      "cell_type": "markdown",
      "metadata": {
        "id": "lsDdGRmRqS6X",
        "colab_type": "text"
      },
      "source": [
        "# Falsely predicted images"
      ]
    },
    {
      "cell_type": "code",
      "metadata": {
        "id": "P6RU8o61qYM8",
        "colab_type": "code",
        "colab": {}
      },
      "source": [
        "matplotlib_imshow(classes, false_predicted, plt, False)"
      ],
      "execution_count": 0,
      "outputs": []
    },
    {
      "cell_type": "markdown",
      "metadata": {
        "id": "f1xSoMgGjknT",
        "colab_type": "text"
      },
      "source": [
        "# Plot The Graph for train and test "
      ]
    },
    {
      "cell_type": "code",
      "metadata": {
        "id": "8F4OmFe7jq3L",
        "colab_type": "code",
        "colab": {}
      },
      "source": [
        "plottesttraingraph([x.item() for x in train_losses], train_acc, test_losses, test_acc, plt, True)"
      ],
      "execution_count": 0,
      "outputs": []
    }
  ]
}