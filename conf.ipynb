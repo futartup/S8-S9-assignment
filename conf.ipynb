{
  "nbformat": 4,
  "nbformat_minor": 0,
  "metadata": {
    "kernelspec": {
      "display_name": "Python 3",
      "language": "python",
      "name": "python3"
    },
    "language_info": {
      "codemirror_mode": {
        "name": "ipython",
        "version": 3
      },
      "file_extension": ".py",
      "mimetype": "text/x-python",
      "name": "python",
      "nbconvert_exporter": "python",
      "pygments_lexer": "ipython3",
      "version": "3.6.6"
    },
    "colab": {
      "name": "conf.ipynb",
      "provenance": [],
      "collapsed_sections": [],
      "include_colab_link": true
    }
  },
  "cells": [
    {
      "cell_type": "markdown",
      "metadata": {
        "id": "view-in-github",
        "colab_type": "text"
      },
      "source": [
        "<a href=\"https://colab.research.google.com/github/futartup/S8-assignment/blob/master/conf.ipynb\" target=\"_parent\"><img src=\"https://colab.research.google.com/assets/colab-badge.svg\" alt=\"Open In Colab\"/></a>"
      ]
    },
    {
      "cell_type": "code",
      "metadata": {
        "id": "e0L6ClQn1Jxu",
        "colab_type": "code",
        "colab": {}
      },
      "source": [
        "learning_rate = 0.01\n",
        "use_lr_finder_train = True\n",
        "use_lr_finder_test = True\n",
        "momentum = 0.9\n",
        "epochs = 15\n",
        "\n",
        "\n",
        "lr_step_size = 25\n",
        "lr_gamma = 0.001\n",
        "\n",
        "\n",
        "data = \"Cifar10\"\n",
        "\n",
        "\n",
        "# loss\n",
        "loss = {\n",
        "    'nll_loss' : True,\n",
        "    'L1_loss' : False,\n",
        "    'L2_loss' : False,\n",
        "}\n",
        "\n",
        "\n",
        "# model related\n",
        "custom_model = {\n",
        "    'use': False,\n",
        "    'block_1': [\n",
        "                {\n",
        "                  'channels': 10,\n",
        "                  'kernel_size': 3,\n",
        "                  'activation': 'Relu',\n",
        "                  'batch_norm': True,\n",
        "                  'drop_out': True,\n",
        "                  'padding': 0,\n",
        "                  'bias': False\n",
        "                 },\n",
        "                {\n",
        "                  'channels': 16,\n",
        "                  'kernel_size': 3,\n",
        "                  'activation': 'Relu',\n",
        "                  'batch_norm': True,\n",
        "                  'drop_out': True,\n",
        "                  'padding': 0,\n",
        "                  'bias': False\n",
        "                 },\n",
        "                {\n",
        "                  'maxpool': 2\n",
        "                 }\n",
        "                ],\n",
        "      'block_2': [\n",
        "                  {\n",
        "                      'channels': 16,\n",
        "                      'kernel_size': 3,\n",
        "                      'activation': 'Relu',\n",
        "                      'batch_norm': True,\n",
        "                      'drop_out': True,\n",
        "                      'padding': 0,\n",
        "                      'bias': False\n",
        "                  },\n",
        "                  {\n",
        "                      'channels': 16,\n",
        "                      'kernel_size': 3,\n",
        "                      'activation': 'Relu',\n",
        "                      'batch_norm': True,\n",
        "                      'drop_out': True,\n",
        "                      'padding': 0,\n",
        "                      'bias': False\n",
        "                  },\n",
        "                  {\n",
        "                      'channels': 16,\n",
        "                      'kernel_size': 3,\n",
        "                      'activation': 'Relu',\n",
        "                      'batch_norm': True,\n",
        "                      'drop_out': True,\n",
        "                      'padding': 0,\n",
        "                      'bias': False\n",
        "                  },\n",
        "                  {\n",
        "                      'maxpool': 2\n",
        "                  }\n",
        "\n",
        "      ]\n",
        "}\n",
        "\n",
        "\n",
        "# Available valid model names = [\"ResNet18\", \"ResNet34\", \"ResNet50\", \"ResNet101\", \"ResNet152\"]\n",
        "inbuilt_model = {\n",
        "    \"use\": True,\n",
        "    \"model\": \"ResNet18\",\n",
        "    \"pretrained\": False,\n",
        "}"
      ],
      "execution_count": 0,
      "outputs": []
    },
    {
      "cell_type": "markdown",
      "metadata": {
        "id": "DcLrelkQ1OSz",
        "colab_type": "text"
      },
      "source": [
        ""
      ]
    }
  ]
}