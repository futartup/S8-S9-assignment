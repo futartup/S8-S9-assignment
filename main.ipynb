{
  "nbformat": 4,
  "nbformat_minor": 0,
  "metadata": {
    "kernelspec": {
      "name": "python3",
      "display_name": "Python 3"
    },
    "colab": {
      "name": "main.ipynb",
      "provenance": [],
      "collapsed_sections": [],
      "include_colab_link": true
    },
    "accelerator": "GPU"
  },
  "cells": [
    {
      "cell_type": "markdown",
      "metadata": {
        "id": "view-in-github",
        "colab_type": "text"
      },
      "source": [
        "<a href=\"https://colab.research.google.com/github/futartup/S8-assignment/blob/master/main.ipynb\" target=\"_parent\"><img src=\"https://colab.research.google.com/assets/colab-badge.svg\" alt=\"Open In Colab\"/></a>"
      ]
    },
    {
      "cell_type": "code",
      "metadata": {
        "id": "O98C8UvoCeFQ",
        "colab_type": "code",
        "outputId": "b044cc9c-e337-49ee-8cae-2ace5bab0c43",
        "colab": {
          "base_uri": "https://localhost:8080/",
          "height": 34
        }
      },
      "source": [
        "from google.colab import drive\n",
        "drive.mount('/content/drive')"
      ],
      "execution_count": 1,
      "outputs": [
        {
          "output_type": "stream",
          "text": [
            "Drive already mounted at /content/drive; to attempt to forcibly remount, call drive.mount(\"/content/drive\", force_remount=True).\n"
          ],
          "name": "stdout"
        }
      ]
    },
    {
      "cell_type": "markdown",
      "metadata": {
        "id": "9YVgO-OjKztm",
        "colab_type": "text"
      },
      "source": [
        "# Import all the custom and inbuilt modules"
      ]
    },
    {
      "cell_type": "code",
      "metadata": {
        "id": "SBszNqk7SPAL",
        "colab_type": "code",
        "colab": {}
      },
      "source": [
        "try:\n",
        "  import ipynb\n",
        "except:\n",
        "  !pip install ipynb --upgrade\n",
        "from torch.optim.lr_scheduler import StepLR\n",
        "import torch.optim as optim\n",
        "import os, sys\n",
        "sys.path.append('/content/drive/My Drive/Colab Notebooks/S8')\n",
        "from torchsummary import summary\n",
        "import torch.optim as optim\n",
        "import torch.nn as nn\n",
        "import torchvision\n",
        "\n",
        "# custom apis\n",
        "from ipynb.fs.full.transform_train_test_loader import *\n",
        "from ipynb.fs.full.conf import *\n",
        "from ipynb.fs.full.test import *\n",
        "from ipynb.fs.full.train import *"
      ],
      "execution_count": 0,
      "outputs": []
    },
    {
      "cell_type": "markdown",
      "metadata": {
        "id": "6j3h8KSQy6i9",
        "colab_type": "text"
      },
      "source": [
        "# The model related code. Load the model from the conf file. "
      ]
    },
    {
      "cell_type": "code",
      "metadata": {
        "id": "ZBByuJphCeFY",
        "colab_type": "code",
        "outputId": "68391c0f-4b14-4204-9650-aaaa7b7ca573",
        "colab": {
          "base_uri": "https://localhost:8080/",
          "height": 51
        }
      },
      "source": [
        "\n",
        "if custom_model['use']:\n",
        "  #use custom model\n",
        "  pass\n",
        "elif inbuilt_model['use']:\n",
        "  from ipynb.fs.full.model.pytorch_resnet import *\n",
        "  from ipynb.fs.full.model.resnet import *\n",
        "  from ipynb.fs.full.model.QuizDNN import *\n",
        "  model_type = inbuilt_model['model']\n",
        "  #net = globals()[model_type]()\n",
        "  net = torchvision.models.resnet18(pretrained=False)"
      ],
      "execution_count": 3,
      "outputs": [
        {
          "output_type": "stream",
          "text": [
            "torch.Size([1, 10])\n",
            "Current Date/Time:  2020-03-17 16:53:15.644992\n"
          ],
          "name": "stdout"
        }
      ]
    },
    {
      "cell_type": "markdown",
      "metadata": {
        "id": "mbMge72lKtsR",
        "colab_type": "text"
      },
      "source": [
        "# Model Summary"
      ]
    },
    {
      "cell_type": "code",
      "metadata": {
        "id": "4ETlERRiKMIF",
        "colab_type": "code",
        "outputId": "f4bafa0a-7793-42d5-a9d4-a2a40875f1f9",
        "colab": {
          "base_uri": "https://localhost:8080/",
          "height": 1000
        }
      },
      "source": [
        "use_cuda = torch.cuda.is_available()\n",
        "device = torch.device(\"cuda\" if use_cuda else \"cpu\")\n",
        "print(device)\n",
        "model = net.to(device)\n",
        "summary(model, input_size=(3, 32, 32))"
      ],
      "execution_count": 4,
      "outputs": [
        {
          "output_type": "stream",
          "text": [
            "cuda\n",
            "----------------------------------------------------------------\n",
            "        Layer (type)               Output Shape         Param #\n",
            "================================================================\n",
            "            Conv2d-1           [-1, 64, 16, 16]           9,408\n",
            "       BatchNorm2d-2           [-1, 64, 16, 16]             128\n",
            "              ReLU-3           [-1, 64, 16, 16]               0\n",
            "         MaxPool2d-4             [-1, 64, 8, 8]               0\n",
            "            Conv2d-5             [-1, 64, 8, 8]          36,864\n",
            "       BatchNorm2d-6             [-1, 64, 8, 8]             128\n",
            "              ReLU-7             [-1, 64, 8, 8]               0\n",
            "            Conv2d-8             [-1, 64, 8, 8]          36,864\n",
            "       BatchNorm2d-9             [-1, 64, 8, 8]             128\n",
            "             ReLU-10             [-1, 64, 8, 8]               0\n",
            "       BasicBlock-11             [-1, 64, 8, 8]               0\n",
            "           Conv2d-12             [-1, 64, 8, 8]          36,864\n",
            "      BatchNorm2d-13             [-1, 64, 8, 8]             128\n",
            "             ReLU-14             [-1, 64, 8, 8]               0\n",
            "           Conv2d-15             [-1, 64, 8, 8]          36,864\n",
            "      BatchNorm2d-16             [-1, 64, 8, 8]             128\n",
            "             ReLU-17             [-1, 64, 8, 8]               0\n",
            "       BasicBlock-18             [-1, 64, 8, 8]               0\n",
            "           Conv2d-19            [-1, 128, 4, 4]          73,728\n",
            "      BatchNorm2d-20            [-1, 128, 4, 4]             256\n",
            "             ReLU-21            [-1, 128, 4, 4]               0\n",
            "           Conv2d-22            [-1, 128, 4, 4]         147,456\n",
            "      BatchNorm2d-23            [-1, 128, 4, 4]             256\n",
            "           Conv2d-24            [-1, 128, 4, 4]           8,192\n",
            "      BatchNorm2d-25            [-1, 128, 4, 4]             256\n",
            "             ReLU-26            [-1, 128, 4, 4]               0\n",
            "       BasicBlock-27            [-1, 128, 4, 4]               0\n",
            "           Conv2d-28            [-1, 128, 4, 4]         147,456\n",
            "      BatchNorm2d-29            [-1, 128, 4, 4]             256\n",
            "             ReLU-30            [-1, 128, 4, 4]               0\n",
            "           Conv2d-31            [-1, 128, 4, 4]         147,456\n",
            "      BatchNorm2d-32            [-1, 128, 4, 4]             256\n",
            "             ReLU-33            [-1, 128, 4, 4]               0\n",
            "       BasicBlock-34            [-1, 128, 4, 4]               0\n",
            "           Conv2d-35            [-1, 256, 2, 2]         294,912\n",
            "      BatchNorm2d-36            [-1, 256, 2, 2]             512\n",
            "             ReLU-37            [-1, 256, 2, 2]               0\n",
            "           Conv2d-38            [-1, 256, 2, 2]         589,824\n",
            "      BatchNorm2d-39            [-1, 256, 2, 2]             512\n",
            "           Conv2d-40            [-1, 256, 2, 2]          32,768\n",
            "      BatchNorm2d-41            [-1, 256, 2, 2]             512\n",
            "             ReLU-42            [-1, 256, 2, 2]               0\n",
            "       BasicBlock-43            [-1, 256, 2, 2]               0\n",
            "           Conv2d-44            [-1, 256, 2, 2]         589,824\n",
            "      BatchNorm2d-45            [-1, 256, 2, 2]             512\n",
            "             ReLU-46            [-1, 256, 2, 2]               0\n",
            "           Conv2d-47            [-1, 256, 2, 2]         589,824\n",
            "      BatchNorm2d-48            [-1, 256, 2, 2]             512\n",
            "             ReLU-49            [-1, 256, 2, 2]               0\n",
            "       BasicBlock-50            [-1, 256, 2, 2]               0\n",
            "           Conv2d-51            [-1, 512, 1, 1]       1,179,648\n",
            "      BatchNorm2d-52            [-1, 512, 1, 1]           1,024\n",
            "             ReLU-53            [-1, 512, 1, 1]               0\n",
            "           Conv2d-54            [-1, 512, 1, 1]       2,359,296\n",
            "      BatchNorm2d-55            [-1, 512, 1, 1]           1,024\n",
            "           Conv2d-56            [-1, 512, 1, 1]         131,072\n",
            "      BatchNorm2d-57            [-1, 512, 1, 1]           1,024\n",
            "             ReLU-58            [-1, 512, 1, 1]               0\n",
            "       BasicBlock-59            [-1, 512, 1, 1]               0\n",
            "           Conv2d-60            [-1, 512, 1, 1]       2,359,296\n",
            "      BatchNorm2d-61            [-1, 512, 1, 1]           1,024\n",
            "             ReLU-62            [-1, 512, 1, 1]               0\n",
            "           Conv2d-63            [-1, 512, 1, 1]       2,359,296\n",
            "      BatchNorm2d-64            [-1, 512, 1, 1]           1,024\n",
            "             ReLU-65            [-1, 512, 1, 1]               0\n",
            "       BasicBlock-66            [-1, 512, 1, 1]               0\n",
            "AdaptiveAvgPool2d-67            [-1, 512, 1, 1]               0\n",
            "           Linear-68                 [-1, 1000]         513,000\n",
            "================================================================\n",
            "Total params: 11,689,512\n",
            "Trainable params: 11,689,512\n",
            "Non-trainable params: 0\n",
            "----------------------------------------------------------------\n",
            "Input size (MB): 0.01\n",
            "Forward/backward pass size (MB): 1.29\n",
            "Params size (MB): 44.59\n",
            "Estimated Total Size (MB): 45.90\n",
            "----------------------------------------------------------------\n"
          ],
          "name": "stdout"
        }
      ]
    },
    {
      "cell_type": "code",
      "metadata": {
        "id": "wCZtd2ULCeFc",
        "colab_type": "code",
        "outputId": "267dd747-0214-477f-bfd9-57ea74e5fa97",
        "colab": {
          "base_uri": "https://localhost:8080/",
          "height": 1000
        }
      },
      "source": [
        "criterion = nn.CrossEntropyLoss()\n",
        "optimizer = optim.SGD(net.parameters(), lr=learning_rate, momentum=momentum)\n",
        "\n",
        "train_loader = get_train_loader()\n",
        "test_loader = get_test_loader()\n",
        "    \n",
        "# TODO: Take the end epoch value from conf file \n",
        "for e in range(1, 60):\n",
        "    print(\"epoch no: \" , e)\n",
        "    train_model(model, device, train_loader, optimizer, criterion, e)\n",
        "    test_model(model, device, test_loader, criterion)\n",
        "    print(\"===========================================================\\n\")\n",
        "\n"
      ],
      "execution_count": 5,
      "outputs": [
        {
          "output_type": "stream",
          "text": [
            "Files already downloaded and verified\n",
            "Files already downloaded and verified\n"
          ],
          "name": "stdout"
        },
        {
          "output_type": "stream",
          "text": [
            "\r  0%|          | 0/782 [00:00<?, ?it/s]"
          ],
          "name": "stderr"
        },
        {
          "output_type": "stream",
          "text": [
            "epoch no:  1\n"
          ],
          "name": "stdout"
        },
        {
          "output_type": "stream",
          "text": [
            "Loss=2.1946065425872803 Batch_id=781 Accuracy=33.97: 100%|██████████| 782/782 [00:34<00:00, 22.83it/s]\n",
            "100%|██████████| 157/157 [00:02<00:00, 53.97it/s]\n",
            "  0%|          | 0/782 [00:00<?, ?it/s]"
          ],
          "name": "stderr"
        },
        {
          "output_type": "stream",
          "text": [
            "\n",
            "Test set: Average loss: 0.0243, Accuracy: 4312/10000 (43.12%)\n",
            "\n",
            "===========================================================\n",
            "\n",
            "epoch no:  2\n"
          ],
          "name": "stdout"
        },
        {
          "output_type": "stream",
          "text": [
            "Loss=1.0628600120544434 Batch_id=781 Accuracy=44.67: 100%|██████████| 782/782 [00:33<00:00, 23.19it/s]\n",
            "100%|██████████| 157/157 [00:02<00:00, 52.43it/s]\n",
            "  0%|          | 0/782 [00:00<?, ?it/s]"
          ],
          "name": "stderr"
        },
        {
          "output_type": "stream",
          "text": [
            "\n",
            "Test set: Average loss: 0.0229, Accuracy: 5056/10000 (50.56%)\n",
            "\n",
            "===========================================================\n",
            "\n",
            "epoch no:  3\n"
          ],
          "name": "stdout"
        },
        {
          "output_type": "stream",
          "text": [
            "Loss=1.3733274936676025 Batch_id=781 Accuracy=50.94: 100%|██████████| 782/782 [00:34<00:00, 22.99it/s]\n",
            "100%|██████████| 157/157 [00:02<00:00, 52.47it/s]\n",
            "  0%|          | 0/782 [00:00<?, ?it/s]"
          ],
          "name": "stderr"
        },
        {
          "output_type": "stream",
          "text": [
            "\n",
            "Test set: Average loss: 0.0204, Accuracy: 5402/10000 (54.02%)\n",
            "\n",
            "===========================================================\n",
            "\n",
            "epoch no:  4\n"
          ],
          "name": "stdout"
        },
        {
          "output_type": "stream",
          "text": [
            "Loss=1.5584015846252441 Batch_id=781 Accuracy=55.03: 100%|██████████| 782/782 [00:34<00:00, 22.66it/s]\n",
            "100%|██████████| 157/157 [00:02<00:00, 52.89it/s]\n",
            "  0%|          | 0/782 [00:00<?, ?it/s]"
          ],
          "name": "stderr"
        },
        {
          "output_type": "stream",
          "text": [
            "\n",
            "Test set: Average loss: 0.0181, Accuracy: 5861/10000 (58.61%)\n",
            "\n",
            "===========================================================\n",
            "\n",
            "epoch no:  5\n"
          ],
          "name": "stdout"
        },
        {
          "output_type": "stream",
          "text": [
            "Loss=0.9438057541847229 Batch_id=781 Accuracy=58.10: 100%|██████████| 782/782 [00:35<00:00, 22.34it/s]\n",
            "100%|██████████| 157/157 [00:02<00:00, 52.79it/s]\n",
            "  0%|          | 0/782 [00:00<?, ?it/s]"
          ],
          "name": "stderr"
        },
        {
          "output_type": "stream",
          "text": [
            "\n",
            "Test set: Average loss: 0.0172, Accuracy: 6168/10000 (61.68%)\n",
            "\n",
            "===========================================================\n",
            "\n",
            "epoch no:  6\n"
          ],
          "name": "stdout"
        },
        {
          "output_type": "stream",
          "text": [
            "Loss=1.893090009689331 Batch_id=781 Accuracy=60.62: 100%|██████████| 782/782 [00:34<00:00, 22.58it/s]\n",
            "100%|██████████| 157/157 [00:02<00:00, 54.20it/s]\n",
            "  0%|          | 0/782 [00:00<?, ?it/s]"
          ],
          "name": "stderr"
        },
        {
          "output_type": "stream",
          "text": [
            "\n",
            "Test set: Average loss: 0.0160, Accuracy: 6367/10000 (63.67%)\n",
            "\n",
            "===========================================================\n",
            "\n",
            "epoch no:  7\n"
          ],
          "name": "stdout"
        },
        {
          "output_type": "stream",
          "text": [
            "Loss=1.2799432277679443 Batch_id=781 Accuracy=62.60: 100%|██████████| 782/782 [00:34<00:00, 22.38it/s]\n",
            "100%|██████████| 157/157 [00:02<00:00, 52.81it/s]\n",
            "  0%|          | 0/782 [00:00<?, ?it/s]"
          ],
          "name": "stderr"
        },
        {
          "output_type": "stream",
          "text": [
            "\n",
            "Test set: Average loss: 0.0171, Accuracy: 6218/10000 (62.18%)\n",
            "\n",
            "===========================================================\n",
            "\n",
            "epoch no:  8\n"
          ],
          "name": "stdout"
        },
        {
          "output_type": "stream",
          "text": [
            "Loss=0.8763424158096313 Batch_id=781 Accuracy=64.47: 100%|██████████| 782/782 [00:34<00:00, 22.66it/s]\n",
            "100%|██████████| 157/157 [00:02<00:00, 52.84it/s]\n",
            "  0%|          | 0/782 [00:00<?, ?it/s]"
          ],
          "name": "stderr"
        },
        {
          "output_type": "stream",
          "text": [
            "\n",
            "Test set: Average loss: 0.0154, Accuracy: 6521/10000 (65.21%)\n",
            "\n",
            "===========================================================\n",
            "\n",
            "epoch no:  9\n"
          ],
          "name": "stdout"
        },
        {
          "output_type": "stream",
          "text": [
            "Loss=1.1322886943817139 Batch_id=781 Accuracy=65.64: 100%|██████████| 782/782 [00:34<00:00, 22.47it/s]\n",
            "100%|██████████| 157/157 [00:02<00:00, 54.06it/s]\n",
            "  0%|          | 0/782 [00:00<?, ?it/s]"
          ],
          "name": "stderr"
        },
        {
          "output_type": "stream",
          "text": [
            "\n",
            "Test set: Average loss: 0.0145, Accuracy: 6717/10000 (67.17%)\n",
            "\n",
            "===========================================================\n",
            "\n",
            "epoch no:  10\n"
          ],
          "name": "stdout"
        },
        {
          "output_type": "stream",
          "text": [
            "Loss=0.9719480872154236 Batch_id=781 Accuracy=66.99: 100%|██████████| 782/782 [00:34<00:00, 22.46it/s]\n",
            "100%|██████████| 157/157 [00:02<00:00, 53.00it/s]\n",
            "  0%|          | 0/782 [00:00<?, ?it/s]"
          ],
          "name": "stderr"
        },
        {
          "output_type": "stream",
          "text": [
            "\n",
            "Test set: Average loss: 0.0149, Accuracy: 6694/10000 (66.94%)\n",
            "\n",
            "===========================================================\n",
            "\n",
            "epoch no:  11\n"
          ],
          "name": "stdout"
        },
        {
          "output_type": "stream",
          "text": [
            "Loss=1.4265838861465454 Batch_id=781 Accuracy=68.20: 100%|██████████| 782/782 [00:35<00:00, 22.33it/s]\n",
            "100%|██████████| 157/157 [00:03<00:00, 51.92it/s]\n",
            "  0%|          | 0/782 [00:00<?, ?it/s]"
          ],
          "name": "stderr"
        },
        {
          "output_type": "stream",
          "text": [
            "\n",
            "Test set: Average loss: 0.0131, Accuracy: 6994/10000 (69.94%)\n",
            "\n",
            "===========================================================\n",
            "\n",
            "epoch no:  12\n"
          ],
          "name": "stdout"
        },
        {
          "output_type": "stream",
          "text": [
            "Loss=0.992230236530304 Batch_id=781 Accuracy=69.28: 100%|██████████| 782/782 [00:34<00:00, 22.64it/s]\n",
            "100%|██████████| 157/157 [00:03<00:00, 51.87it/s]\n",
            "  0%|          | 0/782 [00:00<?, ?it/s]"
          ],
          "name": "stderr"
        },
        {
          "output_type": "stream",
          "text": [
            "\n",
            "Test set: Average loss: 0.0128, Accuracy: 7122/10000 (71.22%)\n",
            "\n",
            "===========================================================\n",
            "\n",
            "epoch no:  13\n"
          ],
          "name": "stdout"
        },
        {
          "output_type": "stream",
          "text": [
            "Loss=1.4126255512237549 Batch_id=781 Accuracy=69.78: 100%|██████████| 782/782 [00:34<00:00, 22.47it/s]\n",
            "100%|██████████| 157/157 [00:03<00:00, 51.66it/s]\n",
            "  0%|          | 0/782 [00:00<?, ?it/s]"
          ],
          "name": "stderr"
        },
        {
          "output_type": "stream",
          "text": [
            "\n",
            "Test set: Average loss: 0.0129, Accuracy: 7108/10000 (71.08%)\n",
            "\n",
            "===========================================================\n",
            "\n",
            "epoch no:  14\n"
          ],
          "name": "stdout"
        },
        {
          "output_type": "stream",
          "text": [
            "Loss=0.5667897462844849 Batch_id=781 Accuracy=70.80: 100%|██████████| 782/782 [00:34<00:00, 22.41it/s]\n",
            "100%|██████████| 157/157 [00:03<00:00, 52.26it/s]\n",
            "  0%|          | 0/782 [00:00<?, ?it/s]"
          ],
          "name": "stderr"
        },
        {
          "output_type": "stream",
          "text": [
            "\n",
            "Test set: Average loss: 0.0125, Accuracy: 7146/10000 (71.46%)\n",
            "\n",
            "===========================================================\n",
            "\n",
            "epoch no:  15\n"
          ],
          "name": "stdout"
        },
        {
          "output_type": "stream",
          "text": [
            "Loss=0.8339484333992004 Batch_id=781 Accuracy=71.35: 100%|██████████| 782/782 [00:34<00:00, 22.50it/s]\n",
            "100%|██████████| 157/157 [00:02<00:00, 52.65it/s]\n",
            "  0%|          | 0/782 [00:00<?, ?it/s]"
          ],
          "name": "stderr"
        },
        {
          "output_type": "stream",
          "text": [
            "\n",
            "Test set: Average loss: 0.0127, Accuracy: 7130/10000 (71.30%)\n",
            "\n",
            "===========================================================\n",
            "\n",
            "epoch no:  16\n"
          ],
          "name": "stdout"
        },
        {
          "output_type": "stream",
          "text": [
            "Loss=0.759090006351471 Batch_id=781 Accuracy=72.23: 100%|██████████| 782/782 [00:34<00:00, 22.50it/s]\n",
            "100%|██████████| 157/157 [00:03<00:00, 52.00it/s]\n",
            "  0%|          | 0/782 [00:00<?, ?it/s]"
          ],
          "name": "stderr"
        },
        {
          "output_type": "stream",
          "text": [
            "\n",
            "Test set: Average loss: 0.0123, Accuracy: 7221/10000 (72.21%)\n",
            "\n",
            "===========================================================\n",
            "\n",
            "epoch no:  17\n"
          ],
          "name": "stdout"
        },
        {
          "output_type": "stream",
          "text": [
            "Loss=0.5451785326004028 Batch_id=781 Accuracy=72.83: 100%|██████████| 782/782 [00:34<00:00, 22.67it/s]\n",
            "100%|██████████| 157/157 [00:03<00:00, 51.62it/s]\n",
            "  0%|          | 0/782 [00:00<?, ?it/s]"
          ],
          "name": "stderr"
        },
        {
          "output_type": "stream",
          "text": [
            "\n",
            "Test set: Average loss: 0.0122, Accuracy: 7276/10000 (72.76%)\n",
            "\n",
            "===========================================================\n",
            "\n",
            "epoch no:  18\n"
          ],
          "name": "stdout"
        },
        {
          "output_type": "stream",
          "text": [
            "Loss=0.7489800453186035 Batch_id=781 Accuracy=73.63: 100%|██████████| 782/782 [00:34<00:00, 22.92it/s]\n",
            "100%|██████████| 157/157 [00:02<00:00, 49.85it/s]\n",
            "  0%|          | 0/782 [00:00<?, ?it/s]"
          ],
          "name": "stderr"
        },
        {
          "output_type": "stream",
          "text": [
            "\n",
            "Test set: Average loss: 0.0118, Accuracy: 7339/10000 (73.39%)\n",
            "\n",
            "===========================================================\n",
            "\n",
            "epoch no:  19\n"
          ],
          "name": "stdout"
        },
        {
          "output_type": "stream",
          "text": [
            "Loss=1.0850664377212524 Batch_id=781 Accuracy=74.06: 100%|██████████| 782/782 [00:34<00:00, 22.67it/s]\n",
            "100%|██████████| 157/157 [00:03<00:00, 52.30it/s]\n",
            "  0%|          | 0/782 [00:00<?, ?it/s]"
          ],
          "name": "stderr"
        },
        {
          "output_type": "stream",
          "text": [
            "\n",
            "Test set: Average loss: 0.0112, Accuracy: 7530/10000 (75.30%)\n",
            "\n",
            "===========================================================\n",
            "\n",
            "epoch no:  20\n"
          ],
          "name": "stdout"
        },
        {
          "output_type": "stream",
          "text": [
            "Loss=0.3904712200164795 Batch_id=781 Accuracy=74.63: 100%|██████████| 782/782 [00:34<00:00, 22.64it/s]\n",
            "100%|██████████| 157/157 [00:02<00:00, 52.41it/s]\n",
            "  0%|          | 0/782 [00:00<?, ?it/s]"
          ],
          "name": "stderr"
        },
        {
          "output_type": "stream",
          "text": [
            "\n",
            "Test set: Average loss: 0.0117, Accuracy: 7401/10000 (74.01%)\n",
            "\n",
            "===========================================================\n",
            "\n",
            "epoch no:  21\n"
          ],
          "name": "stdout"
        },
        {
          "output_type": "stream",
          "text": [
            "Loss=0.5482291579246521 Batch_id=781 Accuracy=74.78: 100%|██████████| 782/782 [00:34<00:00, 22.40it/s]\n",
            "100%|██████████| 157/157 [00:03<00:00, 52.27it/s]\n",
            "  0%|          | 0/782 [00:00<?, ?it/s]"
          ],
          "name": "stderr"
        },
        {
          "output_type": "stream",
          "text": [
            "\n",
            "Test set: Average loss: 0.0117, Accuracy: 7402/10000 (74.02%)\n",
            "\n",
            "===========================================================\n",
            "\n",
            "epoch no:  22\n"
          ],
          "name": "stdout"
        },
        {
          "output_type": "stream",
          "text": [
            "Loss=1.012147068977356 Batch_id=781 Accuracy=75.27: 100%|██████████| 782/782 [00:34<00:00, 22.80it/s]\n",
            "100%|██████████| 157/157 [00:03<00:00, 51.32it/s]\n",
            "  0%|          | 0/782 [00:00<?, ?it/s]"
          ],
          "name": "stderr"
        },
        {
          "output_type": "stream",
          "text": [
            "\n",
            "Test set: Average loss: 0.0110, Accuracy: 7512/10000 (75.12%)\n",
            "\n",
            "===========================================================\n",
            "\n",
            "epoch no:  23\n"
          ],
          "name": "stdout"
        },
        {
          "output_type": "stream",
          "text": [
            "Loss=0.8356775045394897 Batch_id=781 Accuracy=75.88: 100%|██████████| 782/782 [00:34<00:00, 22.65it/s]\n",
            "100%|██████████| 157/157 [00:03<00:00, 51.43it/s]\n",
            "  0%|          | 0/782 [00:00<?, ?it/s]"
          ],
          "name": "stderr"
        },
        {
          "output_type": "stream",
          "text": [
            "\n",
            "Test set: Average loss: 0.0108, Accuracy: 7600/10000 (76.00%)\n",
            "\n",
            "===========================================================\n",
            "\n",
            "epoch no:  24\n"
          ],
          "name": "stdout"
        },
        {
          "output_type": "stream",
          "text": [
            "Loss=0.5745712518692017 Batch_id=781 Accuracy=76.29: 100%|██████████| 782/782 [00:34<00:00, 22.52it/s]\n",
            "100%|██████████| 157/157 [00:02<00:00, 52.47it/s]\n",
            "  0%|          | 0/782 [00:00<?, ?it/s]"
          ],
          "name": "stderr"
        },
        {
          "output_type": "stream",
          "text": [
            "\n",
            "Test set: Average loss: 0.0110, Accuracy: 7574/10000 (75.74%)\n",
            "\n",
            "===========================================================\n",
            "\n",
            "epoch no:  25\n"
          ],
          "name": "stdout"
        },
        {
          "output_type": "stream",
          "text": [
            "Loss=0.4283808469772339 Batch_id=781 Accuracy=76.41: 100%|██████████| 782/782 [00:35<00:00, 22.17it/s]\n",
            "100%|██████████| 157/157 [00:03<00:00, 51.91it/s]\n",
            "  0%|          | 0/782 [00:00<?, ?it/s]"
          ],
          "name": "stderr"
        },
        {
          "output_type": "stream",
          "text": [
            "\n",
            "Test set: Average loss: 0.0106, Accuracy: 7635/10000 (76.35%)\n",
            "\n",
            "===========================================================\n",
            "\n",
            "epoch no:  26\n"
          ],
          "name": "stdout"
        },
        {
          "output_type": "stream",
          "text": [
            "Loss=0.9725525975227356 Batch_id=781 Accuracy=77.08: 100%|██████████| 782/782 [00:34<00:00, 22.48it/s]\n",
            "100%|██████████| 157/157 [00:03<00:00, 50.75it/s]\n",
            "  0%|          | 0/782 [00:00<?, ?it/s]"
          ],
          "name": "stderr"
        },
        {
          "output_type": "stream",
          "text": [
            "\n",
            "Test set: Average loss: 0.0107, Accuracy: 7597/10000 (75.97%)\n",
            "\n",
            "===========================================================\n",
            "\n",
            "epoch no:  27\n"
          ],
          "name": "stdout"
        },
        {
          "output_type": "stream",
          "text": [
            "Loss=0.43700021505355835 Batch_id=781 Accuracy=77.38: 100%|██████████| 782/782 [00:34<00:00, 22.65it/s]\n",
            "100%|██████████| 157/157 [00:03<00:00, 51.61it/s]\n",
            "  0%|          | 0/782 [00:00<?, ?it/s]"
          ],
          "name": "stderr"
        },
        {
          "output_type": "stream",
          "text": [
            "\n",
            "Test set: Average loss: 0.0107, Accuracy: 7583/10000 (75.83%)\n",
            "\n",
            "===========================================================\n",
            "\n",
            "epoch no:  28\n"
          ],
          "name": "stdout"
        },
        {
          "output_type": "stream",
          "text": [
            "Loss=0.33054691553115845 Batch_id=781 Accuracy=77.63: 100%|██████████| 782/782 [00:34<00:00, 21.15it/s]\n",
            "100%|██████████| 157/157 [00:03<00:00, 50.98it/s]\n",
            "  0%|          | 0/782 [00:00<?, ?it/s]"
          ],
          "name": "stderr"
        },
        {
          "output_type": "stream",
          "text": [
            "\n",
            "Test set: Average loss: 0.0112, Accuracy: 7535/10000 (75.35%)\n",
            "\n",
            "===========================================================\n",
            "\n",
            "epoch no:  29\n"
          ],
          "name": "stdout"
        },
        {
          "output_type": "stream",
          "text": [
            "Loss=0.5250204205513 Batch_id=781 Accuracy=78.04: 100%|██████████| 782/782 [00:34<00:00, 21.37it/s]\n",
            "100%|██████████| 157/157 [00:03<00:00, 51.59it/s]\n",
            "  0%|          | 0/782 [00:00<?, ?it/s]"
          ],
          "name": "stderr"
        },
        {
          "output_type": "stream",
          "text": [
            "\n",
            "Test set: Average loss: 0.0107, Accuracy: 7623/10000 (76.23%)\n",
            "\n",
            "===========================================================\n",
            "\n",
            "epoch no:  30\n"
          ],
          "name": "stdout"
        },
        {
          "output_type": "stream",
          "text": [
            "Loss=0.8686364889144897 Batch_id=781 Accuracy=78.30: 100%|██████████| 782/782 [00:34<00:00, 22.67it/s]\n",
            "100%|██████████| 157/157 [00:02<00:00, 52.41it/s]\n",
            "  0%|          | 0/782 [00:00<?, ?it/s]"
          ],
          "name": "stderr"
        },
        {
          "output_type": "stream",
          "text": [
            "\n",
            "Test set: Average loss: 0.0105, Accuracy: 7722/10000 (77.22%)\n",
            "\n",
            "===========================================================\n",
            "\n",
            "epoch no:  31\n"
          ],
          "name": "stdout"
        },
        {
          "output_type": "stream",
          "text": [
            "Loss=0.41680383682250977 Batch_id=781 Accuracy=78.53: 100%|██████████| 782/782 [00:34<00:00, 22.36it/s]\n",
            "100%|██████████| 157/157 [00:03<00:00, 51.62it/s]\n",
            "  0%|          | 0/782 [00:00<?, ?it/s]"
          ],
          "name": "stderr"
        },
        {
          "output_type": "stream",
          "text": [
            "\n",
            "Test set: Average loss: 0.0101, Accuracy: 7734/10000 (77.34%)\n",
            "\n",
            "===========================================================\n",
            "\n",
            "epoch no:  32\n"
          ],
          "name": "stdout"
        },
        {
          "output_type": "stream",
          "text": [
            "Loss=0.6161852478981018 Batch_id=781 Accuracy=78.71: 100%|██████████| 782/782 [00:34<00:00, 22.59it/s]\n",
            "100%|██████████| 157/157 [00:03<00:00, 50.53it/s]\n",
            "  0%|          | 0/782 [00:00<?, ?it/s]"
          ],
          "name": "stderr"
        },
        {
          "output_type": "stream",
          "text": [
            "\n",
            "Test set: Average loss: 0.0102, Accuracy: 7773/10000 (77.73%)\n",
            "\n",
            "===========================================================\n",
            "\n",
            "epoch no:  33\n"
          ],
          "name": "stdout"
        },
        {
          "output_type": "stream",
          "text": [
            "Loss=0.6872876286506653 Batch_id=781 Accuracy=79.25: 100%|██████████| 782/782 [00:34<00:00, 22.59it/s]\n",
            "100%|██████████| 157/157 [00:03<00:00, 51.17it/s]\n",
            "  0%|          | 0/782 [00:00<?, ?it/s]"
          ],
          "name": "stderr"
        },
        {
          "output_type": "stream",
          "text": [
            "\n",
            "Test set: Average loss: 0.0098, Accuracy: 7839/10000 (78.39%)\n",
            "\n",
            "===========================================================\n",
            "\n",
            "epoch no:  34\n"
          ],
          "name": "stdout"
        },
        {
          "output_type": "stream",
          "text": [
            "Loss=0.31337249279022217 Batch_id=781 Accuracy=79.71: 100%|██████████| 782/782 [00:35<00:00, 22.22it/s]\n",
            "100%|██████████| 157/157 [00:02<00:00, 53.49it/s]\n",
            "  0%|          | 0/782 [00:00<?, ?it/s]"
          ],
          "name": "stderr"
        },
        {
          "output_type": "stream",
          "text": [
            "\n",
            "Test set: Average loss: 0.0101, Accuracy: 7778/10000 (77.78%)\n",
            "\n",
            "===========================================================\n",
            "\n",
            "epoch no:  35\n"
          ],
          "name": "stdout"
        },
        {
          "output_type": "stream",
          "text": [
            "Loss=1.0385948419570923 Batch_id=781 Accuracy=79.76: 100%|██████████| 782/782 [00:35<00:00, 22.34it/s]\n",
            "100%|██████████| 157/157 [00:03<00:00, 51.04it/s]\n",
            "  0%|          | 0/782 [00:00<?, ?it/s]"
          ],
          "name": "stderr"
        },
        {
          "output_type": "stream",
          "text": [
            "\n",
            "Test set: Average loss: 0.0101, Accuracy: 7775/10000 (77.75%)\n",
            "\n",
            "===========================================================\n",
            "\n",
            "epoch no:  36\n"
          ],
          "name": "stdout"
        },
        {
          "output_type": "stream",
          "text": [
            "Loss=0.7657840251922607 Batch_id=781 Accuracy=80.03: 100%|██████████| 782/782 [00:34<00:00, 22.54it/s]\n",
            "100%|██████████| 157/157 [00:02<00:00, 52.87it/s]\n",
            "  0%|          | 0/782 [00:00<?, ?it/s]"
          ],
          "name": "stderr"
        },
        {
          "output_type": "stream",
          "text": [
            "\n",
            "Test set: Average loss: 0.0098, Accuracy: 7854/10000 (78.54%)\n",
            "\n",
            "===========================================================\n",
            "\n",
            "epoch no:  37\n"
          ],
          "name": "stdout"
        },
        {
          "output_type": "stream",
          "text": [
            "Loss=0.9260656833648682 Batch_id=781 Accuracy=80.40: 100%|██████████| 782/782 [00:35<00:00, 22.17it/s]\n",
            "100%|██████████| 157/157 [00:03<00:00, 50.43it/s]\n",
            "  0%|          | 0/782 [00:00<?, ?it/s]"
          ],
          "name": "stderr"
        },
        {
          "output_type": "stream",
          "text": [
            "\n",
            "Test set: Average loss: 0.0098, Accuracy: 7848/10000 (78.48%)\n",
            "\n",
            "===========================================================\n",
            "\n",
            "epoch no:  38\n"
          ],
          "name": "stdout"
        },
        {
          "output_type": "stream",
          "text": [
            "Loss=0.4807180166244507 Batch_id=781 Accuracy=80.59: 100%|██████████| 782/782 [00:34<00:00, 22.50it/s]\n",
            "100%|██████████| 157/157 [00:02<00:00, 52.87it/s]\n",
            "  0%|          | 0/782 [00:00<?, ?it/s]"
          ],
          "name": "stderr"
        },
        {
          "output_type": "stream",
          "text": [
            "\n",
            "Test set: Average loss: 0.0098, Accuracy: 7899/10000 (78.99%)\n",
            "\n",
            "===========================================================\n",
            "\n",
            "epoch no:  39\n"
          ],
          "name": "stdout"
        },
        {
          "output_type": "stream",
          "text": [
            "Loss=1.2019044160842896 Batch_id=781 Accuracy=80.74: 100%|██████████| 782/782 [00:34<00:00, 22.44it/s]\n",
            "100%|██████████| 157/157 [00:03<00:00, 49.43it/s]\n",
            "  0%|          | 0/782 [00:00<?, ?it/s]"
          ],
          "name": "stderr"
        },
        {
          "output_type": "stream",
          "text": [
            "\n",
            "Test set: Average loss: 0.0102, Accuracy: 7836/10000 (78.36%)\n",
            "\n",
            "===========================================================\n",
            "\n",
            "epoch no:  40\n"
          ],
          "name": "stdout"
        },
        {
          "output_type": "stream",
          "text": [
            "Loss=0.8822523355484009 Batch_id=781 Accuracy=80.71: 100%|██████████| 782/782 [00:34<00:00, 22.39it/s]\n",
            "100%|██████████| 157/157 [00:03<00:00, 51.81it/s]\n",
            "  0%|          | 0/782 [00:00<?, ?it/s]"
          ],
          "name": "stderr"
        },
        {
          "output_type": "stream",
          "text": [
            "\n",
            "Test set: Average loss: 0.0096, Accuracy: 7931/10000 (79.31%)\n",
            "\n",
            "===========================================================\n",
            "\n",
            "epoch no:  41\n"
          ],
          "name": "stdout"
        },
        {
          "output_type": "stream",
          "text": [
            "Loss=0.3917478322982788 Batch_id=781 Accuracy=81.30: 100%|██████████| 782/782 [00:34<00:00, 22.54it/s]\n",
            "100%|██████████| 157/157 [00:02<00:00, 52.25it/s]\n",
            "  0%|          | 0/782 [00:00<?, ?it/s]"
          ],
          "name": "stderr"
        },
        {
          "output_type": "stream",
          "text": [
            "\n",
            "Test set: Average loss: 0.0097, Accuracy: 7888/10000 (78.88%)\n",
            "\n",
            "===========================================================\n",
            "\n",
            "epoch no:  42\n"
          ],
          "name": "stdout"
        },
        {
          "output_type": "stream",
          "text": [
            "Loss=0.48171722888946533 Batch_id=781 Accuracy=81.36: 100%|██████████| 782/782 [00:35<00:00, 22.11it/s]\n",
            "100%|██████████| 157/157 [00:03<00:00, 51.19it/s]\n",
            "  0%|          | 0/782 [00:00<?, ?it/s]"
          ],
          "name": "stderr"
        },
        {
          "output_type": "stream",
          "text": [
            "\n",
            "Test set: Average loss: 0.0098, Accuracy: 7905/10000 (79.05%)\n",
            "\n",
            "===========================================================\n",
            "\n",
            "epoch no:  43\n"
          ],
          "name": "stdout"
        },
        {
          "output_type": "stream",
          "text": [
            "Loss=0.3565734624862671 Batch_id=781 Accuracy=81.48: 100%|██████████| 782/782 [00:34<00:00, 22.56it/s]\n",
            "100%|██████████| 157/157 [00:03<00:00, 51.09it/s]\n",
            "  0%|          | 0/782 [00:00<?, ?it/s]"
          ],
          "name": "stderr"
        },
        {
          "output_type": "stream",
          "text": [
            "\n",
            "Test set: Average loss: 0.0098, Accuracy: 7891/10000 (78.91%)\n",
            "\n",
            "===========================================================\n",
            "\n",
            "epoch no:  44\n"
          ],
          "name": "stdout"
        },
        {
          "output_type": "stream",
          "text": [
            "Loss=0.803188145160675 Batch_id=781 Accuracy=81.97: 100%|██████████| 782/782 [00:34<00:00, 22.54it/s]\n",
            "100%|██████████| 157/157 [00:03<00:00, 47.72it/s]\n",
            "  0%|          | 0/782 [00:00<?, ?it/s]"
          ],
          "name": "stderr"
        },
        {
          "output_type": "stream",
          "text": [
            "\n",
            "Test set: Average loss: 0.0094, Accuracy: 7973/10000 (79.73%)\n",
            "\n",
            "===========================================================\n",
            "\n",
            "epoch no:  45\n"
          ],
          "name": "stdout"
        },
        {
          "output_type": "stream",
          "text": [
            "Loss=0.6497172713279724 Batch_id=781 Accuracy=82.07: 100%|██████████| 782/782 [00:34<00:00, 22.80it/s]\n",
            "100%|██████████| 157/157 [00:03<00:00, 51.24it/s]\n",
            "  0%|          | 0/782 [00:00<?, ?it/s]"
          ],
          "name": "stderr"
        },
        {
          "output_type": "stream",
          "text": [
            "\n",
            "Test set: Average loss: 0.0095, Accuracy: 7936/10000 (79.36%)\n",
            "\n",
            "===========================================================\n",
            "\n",
            "epoch no:  46\n"
          ],
          "name": "stdout"
        },
        {
          "output_type": "stream",
          "text": [
            "Loss=0.4576946496963501 Batch_id=781 Accuracy=82.35: 100%|██████████| 782/782 [00:35<00:00, 22.28it/s]\n",
            "100%|██████████| 157/157 [00:03<00:00, 51.52it/s]\n",
            "  0%|          | 0/782 [00:00<?, ?it/s]"
          ],
          "name": "stderr"
        },
        {
          "output_type": "stream",
          "text": [
            "\n",
            "Test set: Average loss: 0.0096, Accuracy: 7936/10000 (79.36%)\n",
            "\n",
            "===========================================================\n",
            "\n",
            "epoch no:  47\n"
          ],
          "name": "stdout"
        },
        {
          "output_type": "stream",
          "text": [
            "Loss=0.7627301216125488 Batch_id=781 Accuracy=82.15: 100%|██████████| 782/782 [00:34<00:00, 22.48it/s]\n",
            "100%|██████████| 157/157 [00:03<00:00, 50.48it/s]\n",
            "  0%|          | 0/782 [00:00<?, ?it/s]"
          ],
          "name": "stderr"
        },
        {
          "output_type": "stream",
          "text": [
            "\n",
            "Test set: Average loss: 0.0095, Accuracy: 7949/10000 (79.49%)\n",
            "\n",
            "===========================================================\n",
            "\n",
            "epoch no:  48\n"
          ],
          "name": "stdout"
        },
        {
          "output_type": "stream",
          "text": [
            "Loss=0.43628549575805664 Batch_id=781 Accuracy=82.98: 100%|██████████| 782/782 [00:35<00:00, 22.14it/s]\n",
            "100%|██████████| 157/157 [00:03<00:00, 50.44it/s]\n",
            "  0%|          | 0/782 [00:00<?, ?it/s]"
          ],
          "name": "stderr"
        },
        {
          "output_type": "stream",
          "text": [
            "\n",
            "Test set: Average loss: 0.0099, Accuracy: 7896/10000 (78.96%)\n",
            "\n",
            "===========================================================\n",
            "\n",
            "epoch no:  49\n"
          ],
          "name": "stdout"
        },
        {
          "output_type": "stream",
          "text": [
            "Loss=0.6122082471847534 Batch_id=781 Accuracy=82.73: 100%|██████████| 782/782 [00:34<00:00, 22.88it/s]\n",
            "100%|██████████| 157/157 [00:03<00:00, 51.12it/s]\n",
            "  0%|          | 0/782 [00:00<?, ?it/s]"
          ],
          "name": "stderr"
        },
        {
          "output_type": "stream",
          "text": [
            "\n",
            "Test set: Average loss: 0.0096, Accuracy: 7981/10000 (79.81%)\n",
            "\n",
            "===========================================================\n",
            "\n",
            "epoch no:  50\n"
          ],
          "name": "stdout"
        },
        {
          "output_type": "stream",
          "text": [
            "Loss=0.8999913930892944 Batch_id=781 Accuracy=86.36: 100%|██████████| 782/782 [00:33<00:00, 23.02it/s]\n",
            "100%|██████████| 157/157 [00:02<00:00, 51.76it/s]\n",
            "  0%|          | 0/782 [00:00<?, ?it/s]"
          ],
          "name": "stderr"
        },
        {
          "output_type": "stream",
          "text": [
            "\n",
            "Test set: Average loss: 0.0095, Accuracy: 7923/10000 (79.23%)\n",
            "\n",
            "===========================================================\n",
            "\n",
            "epoch no:  51\n"
          ],
          "name": "stdout"
        },
        {
          "output_type": "stream",
          "text": [
            "Loss=0.327944815158844 Batch_id=781 Accuracy=86.61: 100%|██████████| 782/782 [00:34<00:00, 22.53it/s]\n",
            "100%|██████████| 157/157 [00:03<00:00, 51.21it/s]\n",
            "  0%|          | 0/782 [00:00<?, ?it/s]"
          ],
          "name": "stderr"
        },
        {
          "output_type": "stream",
          "text": [
            "\n",
            "Test set: Average loss: 0.0093, Accuracy: 8021/10000 (81.33%)\n",
            "\n",
            "===========================================================\n",
            "\n",
            "epoch no:  52\n"
          ],
          "name": "stdout"
        },
        {
          "output_type": "stream",
          "text": [
            "Loss=0.46995413303375244 Batch_id=781 Accuracy=86.52: 100%|██████████| 782/782 [00:35<00:00, 22.33it/s]\n",
            "100%|██████████| 157/157 [00:03<00:00, 51.49it/s]\n",
            "  0%|          | 0/782 [00:00<?, ?it/s]"
          ],
          "name": "stderr"
        },
        {
          "output_type": "stream",
          "text": [
            "\n",
            "Test set: Average loss: 0.0091, Accuracy: 8079/10000 (82.02%)\n",
            "\n",
            "===========================================================\n",
            "\n",
            "epoch no:  53\n"
          ],
          "name": "stdout"
        },
        {
          "output_type": "stream",
          "text": [
            "Loss=0.4430123567581177 Batch_id=781 Accuracy=86.87: 100%|██████████| 782/782 [00:39<00:00, 20.78it/s]\n",
            "100%|██████████| 157/157 [00:03<00:00, 50.74it/s]\n",
            "  0%|          | 0/782 [00:00<?, ?it/s]"
          ],
          "name": "stderr"
        },
        {
          "output_type": "stream",
          "text": [
            "\n",
            "Test set: Average loss: 0.0092, Accuracy: 8046/10000 (82.80%)\n",
            "\n",
            "===========================================================\n",
            "\n",
            "epoch no:  54\n"
          ],
          "name": "stdout"
        },
        {
          "output_type": "stream",
          "text": [
            "Loss=0.6450597643852234 Batch_id=781 Accuracy=87.05: 100%|██████████| 782/782 [00:35<00:00, 22.34it/s]\n",
            "100%|██████████| 157/157 [00:03<00:00, 52.20it/s]\n",
            "  0%|          | 0/782 [00:00<?, ?it/s]"
          ],
          "name": "stderr"
        },
        {
          "output_type": "stream",
          "text": [
            "\n",
            "Test set: Average loss: 0.0093, Accuracy: 8033/10000 (82.88%)\n",
            "\n",
            "===========================================================\n",
            "\n",
            "epoch no:  55\n"
          ],
          "name": "stdout"
        },
        {
          "output_type": "stream",
          "text": [
            "Loss=0.8353561758995056 Batch_id=781 Accuracy=87.08: 100%|██████████| 782/782 [00:35<00:00, 22.24it/s]\n",
            "100%|██████████| 157/157 [00:03<00:00, 48.90it/s]\n",
            "  0%|          | 0/782 [00:00<?, ?it/s]"
          ],
          "name": "stderr"
        },
        {
          "output_type": "stream",
          "text": [
            "\n",
            "Test set: Average loss: 0.0093, Accuracy: 8068/10000 (84.24%)\n",
            "\n",
            "===========================================================\n",
            "\n",
            "epoch no:  56\n"
          ],
          "name": "stdout"
        },
        {
          "output_type": "stream",
          "text": [
            "Loss=0.21811378002166748 Batch_id=781 Accuracy=87.62: 100%|██████████| 782/782 [00:35<00:00, 21.76it/s]\n",
            "100%|██████████| 157/157 [00:03<00:00, 53.97it/s]\n",
            "  0%|          | 0/782 [00:00<?, ?it/s]"
          ],
          "name": "stderr"
        },
        {
          "output_type": "stream",
          "text": [
            "\n",
            "Test set: Average loss: 0.0094, Accuracy: 7982/10000 (79.82%)\n",
            "\n",
            "===========================================================\n",
            "\n",
            "epoch no:  57\n"
          ],
          "name": "stdout"
        },
        {
          "output_type": "stream",
          "text": [
            "Loss=0.40871691703796387 Batch_id=781 Accuracy=87.76: 100%|██████████| 782/782 [00:35<00:00, 22.21it/s]\n",
            "100%|██████████| 157/157 [00:03<00:00, 49.67it/s]\n",
            "  0%|          | 0/782 [00:00<?, ?it/s]"
          ],
          "name": "stderr"
        },
        {
          "output_type": "stream",
          "text": [
            "\n",
            "Test set: Average loss: 0.0098, Accuracy: 8014/10000 (83.47%)\n",
            "\n",
            "===========================================================\n",
            "\n",
            "epoch no:  58\n"
          ],
          "name": "stdout"
        },
        {
          "output_type": "stream",
          "text": [
            "Loss=0.4113151431083679 Batch_id=781 Accuracy=87.65: 100%|██████████| 782/782 [00:35<00:00, 21.90it/s]\n",
            "100%|██████████| 157/157 [00:03<00:00, 48.68it/s]\n",
            "  0%|          | 0/782 [00:00<?, ?it/s]"
          ],
          "name": "stderr"
        },
        {
          "output_type": "stream",
          "text": [
            "\n",
            "Test set: Average loss: 0.0091, Accuracy: 8084/10000 (85.41%)\n",
            "\n",
            "===========================================================\n",
            "\n",
            "epoch no:  59\n"
          ],
          "name": "stdout"
        },
        {
          "output_type": "stream",
          "text": [
            "Loss=0.1510634422302246 Batch_id=781 Accuracy=87.82: 100%|██████████| 782/782 [00:35<00:00, 21.90it/s]\n",
            "100%|██████████| 157/157 [00:02<00:00, 54.19it/s]"
          ],
          "name": "stderr"
        },
        {
          "output_type": "stream",
          "text": [
            "\n",
            "Test set: Average loss: 0.0093, Accuracy: 8024/10000 (85.13%)\n",
            "\n",
            "===========================================================\n",
            "\n"
          ],
          "name": "stdout"
        },
        {
          "output_type": "stream",
          "text": [
            "\n"
          ],
          "name": "stderr"
        }
      ]
    }
  ]
}