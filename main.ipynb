{
  "nbformat": 4,
  "nbformat_minor": 0,
  "metadata": {
    "kernelspec": {
      "name": "python3",
      "display_name": "Python 3"
    },
    "colab": {
      "name": "main.ipynb",
      "provenance": [],
      "collapsed_sections": [],
      "include_colab_link": true
    },
    "accelerator": "GPU"
  },
  "cells": [
    {
      "cell_type": "markdown",
      "metadata": {
        "id": "view-in-github",
        "colab_type": "text"
      },
      "source": [
        "<a href=\"https://colab.research.google.com/github/futartup/S8-assignment/blob/master/main.ipynb\" target=\"_parent\"><img src=\"https://colab.research.google.com/assets/colab-badge.svg\" alt=\"Open In Colab\"/></a>"
      ]
    },
    {
      "cell_type": "code",
      "metadata": {
        "id": "O98C8UvoCeFQ",
        "colab_type": "code",
        "outputId": "167ce3cb-d3fb-4134-950b-d19484378eb0",
        "colab": {
          "base_uri": "https://localhost:8080/",
          "height": 122
        }
      },
      "source": [
        "from google.colab import drive\n",
        "drive.mount('/content/drive')"
      ],
      "execution_count": 1,
      "outputs": [
        {
          "output_type": "stream",
          "text": [
            "Go to this URL in a browser: https://accounts.google.com/o/oauth2/auth?client_id=947318989803-6bn6qk8qdgf4n4g3pfee6491hc0brc4i.apps.googleusercontent.com&redirect_uri=urn%3aietf%3awg%3aoauth%3a2.0%3aoob&response_type=code&scope=email%20https%3a%2f%2fwww.googleapis.com%2fauth%2fdocs.test%20https%3a%2f%2fwww.googleapis.com%2fauth%2fdrive%20https%3a%2f%2fwww.googleapis.com%2fauth%2fdrive.photos.readonly%20https%3a%2f%2fwww.googleapis.com%2fauth%2fpeopleapi.readonly\n",
            "\n",
            "Enter your authorization code:\n",
            "··········\n",
            "Mounted at /content/drive\n"
          ],
          "name": "stdout"
        }
      ]
    },
    {
      "cell_type": "markdown",
      "metadata": {
        "id": "9YVgO-OjKztm",
        "colab_type": "text"
      },
      "source": [
        "# Import all the custom and inbuilt modules"
      ]
    },
    {
      "cell_type": "code",
      "metadata": {
        "id": "SBszNqk7SPAL",
        "colab_type": "code",
        "colab": {
          "base_uri": "https://localhost:8080/",
          "height": 85
        },
        "outputId": "1d7d67c9-3ef7-428f-d478-678405666050"
      },
      "source": [
        "try:\n",
        "  import ipynb\n",
        "except:\n",
        "  !pip install ipynb --upgrade\n",
        "from torch.optim.lr_scheduler import StepLR\n",
        "import torch.optim as optim\n",
        "import os, sys\n",
        "sys.path.append('/content/drive/My Drive/Colab Notebooks/S8')\n",
        "from torchsummary import summary\n",
        "import torch.optim as optim\n",
        "import torch.nn as nn\n",
        "import torchvision\n",
        "\n",
        "# custom apis\n",
        "from ipynb.fs.full.transform_train_test_loader import *\n",
        "from ipynb.fs.full.conf import *\n",
        "from ipynb.fs.full.test import *\n",
        "from ipynb.fs.full.train import *"
      ],
      "execution_count": 2,
      "outputs": [
        {
          "output_type": "stream",
          "text": [
            "Collecting ipynb\n",
            "  Downloading https://files.pythonhosted.org/packages/31/42/4c0bbb66390e3a68e04ebf134c8d074a00c18b5882293f8ace5f7497fbf0/ipynb-0.5.1-py3-none-any.whl\n",
            "Installing collected packages: ipynb\n",
            "Successfully installed ipynb-0.5.1\n"
          ],
          "name": "stdout"
        }
      ]
    },
    {
      "cell_type": "markdown",
      "metadata": {
        "id": "6j3h8KSQy6i9",
        "colab_type": "text"
      },
      "source": [
        "# The model related code. Load the model from the conf file. "
      ]
    },
    {
      "cell_type": "code",
      "metadata": {
        "id": "ZBByuJphCeFY",
        "colab_type": "code",
        "outputId": "52fec44d-b305-4e84-91e3-dd7152b26d38",
        "colab": {
          "base_uri": "https://localhost:8080/",
          "height": 34
        }
      },
      "source": [
        "\n",
        "if custom_model['use']:\n",
        "  #use custom model\n",
        "  pass\n",
        "elif inbuilt_model['use']:\n",
        "  from ipynb.fs.full.model.pytorch_resnet import *\n",
        "  from ipynb.fs.full.model.resnet import *\n",
        "  model_type = inbuilt_model['model']\n",
        "  #net = globals()[model_type]()\n",
        "  net = torchvision.models.resnet18(pretrained=False)"
      ],
      "execution_count": 3,
      "outputs": [
        {
          "output_type": "stream",
          "text": [
            "torch.Size([1, 10])\n"
          ],
          "name": "stdout"
        }
      ]
    },
    {
      "cell_type": "markdown",
      "metadata": {
        "id": "mbMge72lKtsR",
        "colab_type": "text"
      },
      "source": [
        "# Model Summary"
      ]
    },
    {
      "cell_type": "code",
      "metadata": {
        "id": "4ETlERRiKMIF",
        "colab_type": "code",
        "outputId": "48b378a0-4640-4c75-e0a9-0c2c50b8dffa",
        "colab": {
          "base_uri": "https://localhost:8080/",
          "height": 1000
        }
      },
      "source": [
        "use_cuda = torch.cuda.is_available()\n",
        "device = torch.device(\"cuda\" if use_cuda else \"cpu\")\n",
        "print(device)\n",
        "model = net.to(device)\n",
        "summary(model, input_size=(3, 32, 32))"
      ],
      "execution_count": 4,
      "outputs": [
        {
          "output_type": "stream",
          "text": [
            "cuda\n",
            "----------------------------------------------------------------\n",
            "        Layer (type)               Output Shape         Param #\n",
            "================================================================\n",
            "            Conv2d-1           [-1, 64, 16, 16]           9,408\n",
            "       BatchNorm2d-2           [-1, 64, 16, 16]             128\n",
            "              ReLU-3           [-1, 64, 16, 16]               0\n",
            "         MaxPool2d-4             [-1, 64, 8, 8]               0\n",
            "            Conv2d-5             [-1, 64, 8, 8]          36,864\n",
            "       BatchNorm2d-6             [-1, 64, 8, 8]             128\n",
            "              ReLU-7             [-1, 64, 8, 8]               0\n",
            "            Conv2d-8             [-1, 64, 8, 8]          36,864\n",
            "       BatchNorm2d-9             [-1, 64, 8, 8]             128\n",
            "             ReLU-10             [-1, 64, 8, 8]               0\n",
            "       BasicBlock-11             [-1, 64, 8, 8]               0\n",
            "           Conv2d-12             [-1, 64, 8, 8]          36,864\n",
            "      BatchNorm2d-13             [-1, 64, 8, 8]             128\n",
            "             ReLU-14             [-1, 64, 8, 8]               0\n",
            "           Conv2d-15             [-1, 64, 8, 8]          36,864\n",
            "      BatchNorm2d-16             [-1, 64, 8, 8]             128\n",
            "             ReLU-17             [-1, 64, 8, 8]               0\n",
            "       BasicBlock-18             [-1, 64, 8, 8]               0\n",
            "           Conv2d-19            [-1, 128, 4, 4]          73,728\n",
            "      BatchNorm2d-20            [-1, 128, 4, 4]             256\n",
            "             ReLU-21            [-1, 128, 4, 4]               0\n",
            "           Conv2d-22            [-1, 128, 4, 4]         147,456\n",
            "      BatchNorm2d-23            [-1, 128, 4, 4]             256\n",
            "           Conv2d-24            [-1, 128, 4, 4]           8,192\n",
            "      BatchNorm2d-25            [-1, 128, 4, 4]             256\n",
            "             ReLU-26            [-1, 128, 4, 4]               0\n",
            "       BasicBlock-27            [-1, 128, 4, 4]               0\n",
            "           Conv2d-28            [-1, 128, 4, 4]         147,456\n",
            "      BatchNorm2d-29            [-1, 128, 4, 4]             256\n",
            "             ReLU-30            [-1, 128, 4, 4]               0\n",
            "           Conv2d-31            [-1, 128, 4, 4]         147,456\n",
            "      BatchNorm2d-32            [-1, 128, 4, 4]             256\n",
            "             ReLU-33            [-1, 128, 4, 4]               0\n",
            "       BasicBlock-34            [-1, 128, 4, 4]               0\n",
            "           Conv2d-35            [-1, 256, 2, 2]         294,912\n",
            "      BatchNorm2d-36            [-1, 256, 2, 2]             512\n",
            "             ReLU-37            [-1, 256, 2, 2]               0\n",
            "           Conv2d-38            [-1, 256, 2, 2]         589,824\n",
            "      BatchNorm2d-39            [-1, 256, 2, 2]             512\n",
            "           Conv2d-40            [-1, 256, 2, 2]          32,768\n",
            "      BatchNorm2d-41            [-1, 256, 2, 2]             512\n",
            "             ReLU-42            [-1, 256, 2, 2]               0\n",
            "       BasicBlock-43            [-1, 256, 2, 2]               0\n",
            "           Conv2d-44            [-1, 256, 2, 2]         589,824\n",
            "      BatchNorm2d-45            [-1, 256, 2, 2]             512\n",
            "             ReLU-46            [-1, 256, 2, 2]               0\n",
            "           Conv2d-47            [-1, 256, 2, 2]         589,824\n",
            "      BatchNorm2d-48            [-1, 256, 2, 2]             512\n",
            "             ReLU-49            [-1, 256, 2, 2]               0\n",
            "       BasicBlock-50            [-1, 256, 2, 2]               0\n",
            "           Conv2d-51            [-1, 512, 1, 1]       1,179,648\n",
            "      BatchNorm2d-52            [-1, 512, 1, 1]           1,024\n",
            "             ReLU-53            [-1, 512, 1, 1]               0\n",
            "           Conv2d-54            [-1, 512, 1, 1]       2,359,296\n",
            "      BatchNorm2d-55            [-1, 512, 1, 1]           1,024\n",
            "           Conv2d-56            [-1, 512, 1, 1]         131,072\n",
            "      BatchNorm2d-57            [-1, 512, 1, 1]           1,024\n",
            "             ReLU-58            [-1, 512, 1, 1]               0\n",
            "       BasicBlock-59            [-1, 512, 1, 1]               0\n",
            "           Conv2d-60            [-1, 512, 1, 1]       2,359,296\n",
            "      BatchNorm2d-61            [-1, 512, 1, 1]           1,024\n",
            "             ReLU-62            [-1, 512, 1, 1]               0\n",
            "           Conv2d-63            [-1, 512, 1, 1]       2,359,296\n",
            "      BatchNorm2d-64            [-1, 512, 1, 1]           1,024\n",
            "             ReLU-65            [-1, 512, 1, 1]               0\n",
            "       BasicBlock-66            [-1, 512, 1, 1]               0\n",
            "AdaptiveAvgPool2d-67            [-1, 512, 1, 1]               0\n",
            "           Linear-68                 [-1, 1000]         513,000\n",
            "================================================================\n",
            "Total params: 11,689,512\n",
            "Trainable params: 11,689,512\n",
            "Non-trainable params: 0\n",
            "----------------------------------------------------------------\n",
            "Input size (MB): 0.01\n",
            "Forward/backward pass size (MB): 1.29\n",
            "Params size (MB): 44.59\n",
            "Estimated Total Size (MB): 45.90\n",
            "----------------------------------------------------------------\n"
          ],
          "name": "stdout"
        }
      ]
    },
    {
      "cell_type": "code",
      "metadata": {
        "id": "wCZtd2ULCeFc",
        "colab_type": "code",
        "outputId": "58451540-6758-458d-d465-cfb0f851dcd0",
        "colab": {
          "base_uri": "https://localhost:8080/",
          "height": 1000
        }
      },
      "source": [
        "criterion = nn.CrossEntropyLoss()\n",
        "optimizer = optim.SGD(net.parameters(), lr=learning_rate, momentum=momentum)\n",
        "\n",
        "train_loader = get_train_loader()\n",
        "test_loader = get_test_loader()\n",
        "\n",
        "from tqdm import tqdm\n",
        "import torch\n",
        "import torch.nn.functional as F\n",
        "\n",
        "test_losses = []\n",
        "test_acc = []\n",
        "\n",
        "# TODO: remove the issue for import error of this function and use the function\n",
        "# mentioned inside test.ipynb file. As of now using this function from here.\n",
        "def test_model(model, device, test_loader, criterion):\n",
        "    model.eval()\n",
        "    test_loss = 0\n",
        "    correct = 0\n",
        "    total = 0\n",
        "    pbar = tqdm(test_loader)\n",
        "    with torch.no_grad():\n",
        "        for data, target in test_loader:\n",
        "            data, target = data.to(device), target.to(device)\n",
        "            output = model(data)\n",
        "            loss = criterion(output, target)\n",
        "            test_loss += loss.item()\n",
        "            _, predicted = output.max(1)\n",
        "            total += target.size(0)\n",
        "            correct += predicted.eq(target).sum().item()\n",
        "            #test_loss += F.nll_loss(output, target, reduction='sum').item()  # sum up batch loss\n",
        "            #pred = output.argmax(dim=1, keepdim=True)  # get the index of the max log-probability\n",
        "            #correct += pred.eq(target.view_as(pred)).sum().item()\n",
        "\n",
        "    test_loss /= len(test_loader.dataset)\n",
        "    test_losses.append(test_loss)\n",
        "    pbar.set_description(desc= f'Loss={loss.item()} , Accuracy={100*correct/total:0.2f}')\n",
        "    print('\\nTest set: Average loss: {:.4f}, Accuracy: {}/{} ({:.2f}%)\\n'.format(\n",
        "        test_loss, correct, total,\n",
        "        100. * correct / total))\n",
        "    \n",
        "    test_acc.append(100. * correct / total)\n",
        "    \n",
        "# TODO: Take the end epoch value from conf file \n",
        "for e in range(1, 70):\n",
        "    print(\"epoch no: \" , e)\n",
        "    train_model(model, device, train_loader, optimizer, criterion, e)\n",
        "    test_model(model, device, test_loader, criterion)\n",
        "    print(\"===========================================================\\n\")\n",
        "\n"
      ],
      "execution_count": 6,
      "outputs": [
        {
          "output_type": "stream",
          "text": [
            "Files already downloaded and verified\n",
            "Files already downloaded and verified\n"
          ],
          "name": "stdout"
        },
        {
          "output_type": "stream",
          "text": [
            "\r  0%|          | 0/782 [00:00<?, ?it/s]"
          ],
          "name": "stderr"
        },
        {
          "output_type": "stream",
          "text": [
            "epoch no:  1\n"
          ],
          "name": "stdout"
        },
        {
          "output_type": "stream",
          "text": [
            "Loss=0.623447060585022 Batch_id=781 Accuracy=93.19: 100%|██████████| 782/782 [00:22<00:00, 37.62it/s]\n",
            "Loss=0.2097468376159668 , Accuracy=82.83:   0%|          | 0/157 [00:02<?, ?it/s]\n",
            "  0%|          | 0/782 [00:00<?, ?it/s]"
          ],
          "name": "stderr"
        },
        {
          "output_type": "stream",
          "text": [
            "\n",
            "Test set: Average loss: 0.0100, Accuracy: 8283/10000 (82.83%)\n",
            "\n",
            "===========================================================\n",
            "\n",
            "epoch no:  2\n"
          ],
          "name": "stdout"
        },
        {
          "output_type": "stream",
          "text": [
            "Loss=0.26461899280548096 Batch_id=781 Accuracy=93.19: 100%|██████████| 782/782 [00:22<00:00, 35.28it/s]\n",
            "Loss=0.4824584126472473 , Accuracy=83.35:   0%|          | 0/157 [00:02<?, ?it/s]\n",
            "  0%|          | 0/782 [00:00<?, ?it/s]"
          ],
          "name": "stderr"
        },
        {
          "output_type": "stream",
          "text": [
            "\n",
            "Test set: Average loss: 0.0100, Accuracy: 8335/10000 (83.35%)\n",
            "\n",
            "===========================================================\n",
            "\n",
            "epoch no:  3\n"
          ],
          "name": "stdout"
        },
        {
          "output_type": "stream",
          "text": [
            "Loss=0.917992353439331 Batch_id=781 Accuracy=93.21: 100%|██████████| 782/782 [00:22<00:00, 35.24it/s]\n",
            "Loss=0.34429073333740234 , Accuracy=83.41:   0%|          | 0/157 [00:02<?, ?it/s]\n",
            "  0%|          | 0/782 [00:00<?, ?it/s]"
          ],
          "name": "stderr"
        },
        {
          "output_type": "stream",
          "text": [
            "\n",
            "Test set: Average loss: 0.0102, Accuracy: 8341/10000 (83.41%)\n",
            "\n",
            "===========================================================\n",
            "\n",
            "epoch no:  4\n"
          ],
          "name": "stdout"
        },
        {
          "output_type": "stream",
          "text": [
            "Loss=0.30450165271759033 Batch_id=781 Accuracy=93.35: 100%|██████████| 782/782 [00:22<00:00, 34.88it/s]\n",
            "Loss=0.3022947311401367 , Accuracy=83.71:   0%|          | 0/157 [00:02<?, ?it/s]\n",
            "  0%|          | 0/782 [00:00<?, ?it/s]"
          ],
          "name": "stderr"
        },
        {
          "output_type": "stream",
          "text": [
            "\n",
            "Test set: Average loss: 0.0104, Accuracy: 8371/10000 (83.71%)\n",
            "\n",
            "===========================================================\n",
            "\n",
            "epoch no:  5\n"
          ],
          "name": "stdout"
        },
        {
          "output_type": "stream",
          "text": [
            "Loss=0.11338043212890625 Batch_id=781 Accuracy=93.53: 100%|██████████| 782/782 [00:22<00:00, 37.00it/s]\n",
            "Loss=0.5225032567977905 , Accuracy=83.16:   0%|          | 0/157 [00:02<?, ?it/s]\n",
            "  0%|          | 0/782 [00:00<?, ?it/s]"
          ],
          "name": "stderr"
        },
        {
          "output_type": "stream",
          "text": [
            "\n",
            "Test set: Average loss: 0.0101, Accuracy: 8316/10000 (83.16%)\n",
            "\n",
            "===========================================================\n",
            "\n",
            "epoch no:  6\n"
          ],
          "name": "stdout"
        },
        {
          "output_type": "stream",
          "text": [
            "Loss=0.2424248456954956 Batch_id=781 Accuracy=93.75: 100%|██████████| 782/782 [00:22<00:00, 34.32it/s]\n",
            "Loss=0.538520336151123 , Accuracy=83.62:   0%|          | 0/157 [00:02<?, ?it/s]\n",
            "  0%|          | 0/782 [00:00<?, ?it/s]"
          ],
          "name": "stderr"
        },
        {
          "output_type": "stream",
          "text": [
            "\n",
            "Test set: Average loss: 0.0099, Accuracy: 8362/10000 (83.62%)\n",
            "\n",
            "===========================================================\n",
            "\n",
            "epoch no:  7\n"
          ],
          "name": "stdout"
        },
        {
          "output_type": "stream",
          "text": [
            "Loss=0.49430930614471436 Batch_id=781 Accuracy=93.93: 100%|██████████| 782/782 [00:22<00:00, 34.48it/s]\n",
            "Loss=0.48640453815460205 , Accuracy=83.78:   0%|          | 0/157 [00:02<?, ?it/s]\n",
            "  0%|          | 0/782 [00:00<?, ?it/s]"
          ],
          "name": "stderr"
        },
        {
          "output_type": "stream",
          "text": [
            "\n",
            "Test set: Average loss: 0.0100, Accuracy: 8378/10000 (83.78%)\n",
            "\n",
            "===========================================================\n",
            "\n",
            "epoch no:  8\n"
          ],
          "name": "stdout"
        },
        {
          "output_type": "stream",
          "text": [
            "Loss=0.34768450260162354 Batch_id=781 Accuracy=93.90: 100%|██████████| 782/782 [00:22<00:00, 37.25it/s]\n",
            "Loss=0.6676509380340576 , Accuracy=83.06:   0%|          | 0/157 [00:02<?, ?it/s]\n",
            "  0%|          | 0/782 [00:00<?, ?it/s]"
          ],
          "name": "stderr"
        },
        {
          "output_type": "stream",
          "text": [
            "\n",
            "Test set: Average loss: 0.0103, Accuracy: 8306/10000 (83.06%)\n",
            "\n",
            "===========================================================\n",
            "\n",
            "epoch no:  9\n"
          ],
          "name": "stdout"
        },
        {
          "output_type": "stream",
          "text": [
            "Loss=0.11524033546447754 Batch_id=781 Accuracy=93.98: 100%|██████████| 782/782 [00:22<00:00, 35.13it/s]\n",
            "Loss=0.5538638234138489 , Accuracy=83.54:   0%|          | 0/157 [00:02<?, ?it/s]\n",
            "  0%|          | 0/782 [00:00<?, ?it/s]"
          ],
          "name": "stderr"
        },
        {
          "output_type": "stream",
          "text": [
            "\n",
            "Test set: Average loss: 0.0098, Accuracy: 8354/10000 (83.54%)\n",
            "\n",
            "===========================================================\n",
            "\n",
            "epoch no:  10\n"
          ],
          "name": "stdout"
        },
        {
          "output_type": "stream",
          "text": [
            "Loss=0.05092728137969971 Batch_id=781 Accuracy=94.08: 100%|██████████| 782/782 [00:21<00:00, 35.59it/s]\n",
            "Loss=0.9441037178039551 , Accuracy=82.37:   0%|          | 0/157 [00:02<?, ?it/s]\n",
            "  0%|          | 0/782 [00:00<?, ?it/s]"
          ],
          "name": "stderr"
        },
        {
          "output_type": "stream",
          "text": [
            "\n",
            "Test set: Average loss: 0.0110, Accuracy: 8237/10000 (82.37%)\n",
            "\n",
            "===========================================================\n",
            "\n",
            "epoch no:  11\n"
          ],
          "name": "stdout"
        },
        {
          "output_type": "stream",
          "text": [
            "Loss=0.0933157205581665 Batch_id=781 Accuracy=94.29: 100%|██████████| 782/782 [00:21<00:00, 35.96it/s]\n",
            "Loss=0.32715296745300293 , Accuracy=83.68:   0%|          | 0/157 [00:02<?, ?it/s]\n",
            "  0%|          | 0/782 [00:00<?, ?it/s]"
          ],
          "name": "stderr"
        },
        {
          "output_type": "stream",
          "text": [
            "\n",
            "Test set: Average loss: 0.0102, Accuracy: 8368/10000 (83.68%)\n",
            "\n",
            "===========================================================\n",
            "\n",
            "epoch no:  12\n"
          ],
          "name": "stdout"
        },
        {
          "output_type": "stream",
          "text": [
            "Loss=1.2459760904312134 Batch_id=781 Accuracy=94.22: 100%|██████████| 782/782 [00:21<00:00, 36.54it/s]\n",
            "Loss=0.46261727809906006 , Accuracy=83.66:   0%|          | 0/157 [00:02<?, ?it/s]\n",
            "  0%|          | 0/782 [00:00<?, ?it/s]"
          ],
          "name": "stderr"
        },
        {
          "output_type": "stream",
          "text": [
            "\n",
            "Test set: Average loss: 0.0104, Accuracy: 8366/10000 (83.66%)\n",
            "\n",
            "===========================================================\n",
            "\n",
            "epoch no:  13\n"
          ],
          "name": "stdout"
        },
        {
          "output_type": "stream",
          "text": [
            "Loss=0.16398835182189941 Batch_id=781 Accuracy=94.28: 100%|██████████| 782/782 [00:21<00:00, 36.61it/s]\n",
            "Loss=0.38194072246551514 , Accuracy=83.58:   0%|          | 0/157 [00:02<?, ?it/s]\n",
            "  0%|          | 0/782 [00:00<?, ?it/s]"
          ],
          "name": "stderr"
        },
        {
          "output_type": "stream",
          "text": [
            "\n",
            "Test set: Average loss: 0.0104, Accuracy: 8358/10000 (83.58%)\n",
            "\n",
            "===========================================================\n",
            "\n",
            "epoch no:  14\n"
          ],
          "name": "stdout"
        },
        {
          "output_type": "stream",
          "text": [
            "Loss=0.1941981315612793 Batch_id=781 Accuracy=94.22: 100%|██████████| 782/782 [00:21<00:00, 37.55it/s]\n",
            "Loss=0.7543927431106567 , Accuracy=83.25:   0%|          | 0/157 [00:02<?, ?it/s]\n",
            "  0%|          | 0/782 [00:00<?, ?it/s]"
          ],
          "name": "stderr"
        },
        {
          "output_type": "stream",
          "text": [
            "\n",
            "Test set: Average loss: 0.0105, Accuracy: 8325/10000 (83.25%)\n",
            "\n",
            "===========================================================\n",
            "\n",
            "epoch no:  15\n"
          ],
          "name": "stdout"
        },
        {
          "output_type": "stream",
          "text": [
            "Loss=0.37466961145401 Batch_id=781 Accuracy=94.65: 100%|██████████| 782/782 [00:21<00:00, 35.97it/s]\n",
            "Loss=0.6187413930892944 , Accuracy=83.04:   0%|          | 0/157 [00:02<?, ?it/s]\n",
            "  0%|          | 0/782 [00:00<?, ?it/s]"
          ],
          "name": "stderr"
        },
        {
          "output_type": "stream",
          "text": [
            "\n",
            "Test set: Average loss: 0.0105, Accuracy: 8304/10000 (83.04%)\n",
            "\n",
            "===========================================================\n",
            "\n",
            "epoch no:  16\n"
          ],
          "name": "stdout"
        },
        {
          "output_type": "stream",
          "text": [
            "Loss=0.27388834953308105 Batch_id=781 Accuracy=94.71: 100%|██████████| 782/782 [00:21<00:00, 39.31it/s]\n",
            "Loss=0.7695214748382568 , Accuracy=83.79:   0%|          | 0/157 [00:02<?, ?it/s]\n",
            "  0%|          | 0/782 [00:00<?, ?it/s]"
          ],
          "name": "stderr"
        },
        {
          "output_type": "stream",
          "text": [
            "\n",
            "Test set: Average loss: 0.0104, Accuracy: 8379/10000 (83.79%)\n",
            "\n",
            "===========================================================\n",
            "\n",
            "epoch no:  17\n"
          ],
          "name": "stdout"
        },
        {
          "output_type": "stream",
          "text": [
            "Loss=0.05906331539154053 Batch_id=781 Accuracy=94.67: 100%|██████████| 782/782 [00:21<00:00, 36.94it/s]\n",
            "Loss=0.4741635322570801 , Accuracy=83.56:   0%|          | 0/157 [00:02<?, ?it/s]\n",
            "  0%|          | 0/782 [00:00<?, ?it/s]"
          ],
          "name": "stderr"
        },
        {
          "output_type": "stream",
          "text": [
            "\n",
            "Test set: Average loss: 0.0105, Accuracy: 8356/10000 (83.56%)\n",
            "\n",
            "===========================================================\n",
            "\n",
            "epoch no:  18\n"
          ],
          "name": "stdout"
        },
        {
          "output_type": "stream",
          "text": [
            "Loss=0.295795202255249 Batch_id=781 Accuracy=94.93: 100%|██████████| 782/782 [00:21<00:00, 37.14it/s]\n",
            "Loss=0.2505462169647217 , Accuracy=83.44:   0%|          | 0/157 [00:02<?, ?it/s]\n",
            "  0%|          | 0/782 [00:00<?, ?it/s]"
          ],
          "name": "stderr"
        },
        {
          "output_type": "stream",
          "text": [
            "\n",
            "Test set: Average loss: 0.0112, Accuracy: 8344/10000 (83.44%)\n",
            "\n",
            "===========================================================\n",
            "\n",
            "epoch no:  19\n"
          ],
          "name": "stdout"
        },
        {
          "output_type": "stream",
          "text": [
            "Loss=0.12931716442108154 Batch_id=781 Accuracy=94.80: 100%|██████████| 782/782 [00:20<00:00, 39.88it/s]\n",
            "Loss=0.07431542873382568 , Accuracy=83.83:   0%|          | 0/157 [00:02<?, ?it/s]\n",
            "  0%|          | 0/782 [00:00<?, ?it/s]"
          ],
          "name": "stderr"
        },
        {
          "output_type": "stream",
          "text": [
            "\n",
            "Test set: Average loss: 0.0106, Accuracy: 8383/10000 (83.83%)\n",
            "\n",
            "===========================================================\n",
            "\n",
            "epoch no:  20\n"
          ],
          "name": "stdout"
        },
        {
          "output_type": "stream",
          "text": [
            "Loss=0.0085601806640625 Batch_id=781 Accuracy=95.09: 100%|██████████| 782/782 [00:21<00:00, 37.16it/s]\n",
            "Loss=0.46572887897491455 , Accuracy=83.57:   0%|          | 0/157 [00:02<?, ?it/s]\n",
            "  0%|          | 0/782 [00:00<?, ?it/s]"
          ],
          "name": "stderr"
        },
        {
          "output_type": "stream",
          "text": [
            "\n",
            "Test set: Average loss: 0.0106, Accuracy: 8357/10000 (83.57%)\n",
            "\n",
            "===========================================================\n",
            "\n",
            "epoch no:  21\n"
          ],
          "name": "stdout"
        },
        {
          "output_type": "stream",
          "text": [
            "Loss=0.04756128787994385 Batch_id=781 Accuracy=95.20: 100%|██████████| 782/782 [00:20<00:00, 39.59it/s]\n",
            "Loss=0.9135102033615112 , Accuracy=83.88:   0%|          | 0/157 [00:02<?, ?it/s]\n",
            "  0%|          | 0/782 [00:00<?, ?it/s]"
          ],
          "name": "stderr"
        },
        {
          "output_type": "stream",
          "text": [
            "\n",
            "Test set: Average loss: 0.0104, Accuracy: 8388/10000 (83.88%)\n",
            "\n",
            "===========================================================\n",
            "\n",
            "epoch no:  22\n"
          ],
          "name": "stdout"
        },
        {
          "output_type": "stream",
          "text": [
            "Loss=0.18941259384155273 Batch_id=781 Accuracy=95.31: 100%|██████████| 782/782 [00:20<00:00, 40.21it/s]\n",
            "Loss=0.7935997247695923 , Accuracy=83.43:   0%|          | 0/157 [00:02<?, ?it/s]\n",
            "  0%|          | 0/782 [00:00<?, ?it/s]"
          ],
          "name": "stderr"
        },
        {
          "output_type": "stream",
          "text": [
            "\n",
            "Test set: Average loss: 0.0109, Accuracy: 8343/10000 (83.43%)\n",
            "\n",
            "===========================================================\n",
            "\n",
            "epoch no:  23\n"
          ],
          "name": "stdout"
        },
        {
          "output_type": "stream",
          "text": [
            "Loss=0.12979328632354736 Batch_id=781 Accuracy=95.13: 100%|██████████| 782/782 [00:20<00:00, 40.36it/s]\n",
            "Loss=1.0265796184539795 , Accuracy=83.76:   0%|          | 0/157 [00:02<?, ?it/s]\n",
            "  0%|          | 0/782 [00:00<?, ?it/s]"
          ],
          "name": "stderr"
        },
        {
          "output_type": "stream",
          "text": [
            "\n",
            "Test set: Average loss: 0.0109, Accuracy: 8376/10000 (83.76%)\n",
            "\n",
            "===========================================================\n",
            "\n",
            "epoch no:  24\n"
          ],
          "name": "stdout"
        },
        {
          "output_type": "stream",
          "text": [
            "Loss=0.4528946876525879 Batch_id=781 Accuracy=95.15: 100%|██████████| 782/782 [00:21<00:00, 36.73it/s]\n",
            "Loss=0.9102723598480225 , Accuracy=83.65:   0%|          | 0/157 [00:02<?, ?it/s]\n",
            "  0%|          | 0/782 [00:00<?, ?it/s]"
          ],
          "name": "stderr"
        },
        {
          "output_type": "stream",
          "text": [
            "\n",
            "Test set: Average loss: 0.0109, Accuracy: 8365/10000 (83.65%)\n",
            "\n",
            "===========================================================\n",
            "\n",
            "epoch no:  25\n"
          ],
          "name": "stdout"
        },
        {
          "output_type": "stream",
          "text": [
            "Loss=0.2232569456100464 Batch_id=781 Accuracy=95.34: 100%|██████████| 782/782 [00:21<00:00, 37.23it/s]\n",
            "Loss=0.3076106309890747 , Accuracy=83.26:   0%|          | 0/157 [00:02<?, ?it/s]\n",
            "  0%|          | 0/782 [00:00<?, ?it/s]"
          ],
          "name": "stderr"
        },
        {
          "output_type": "stream",
          "text": [
            "\n",
            "Test set: Average loss: 0.0108, Accuracy: 8326/10000 (83.26%)\n",
            "\n",
            "===========================================================\n",
            "\n",
            "epoch no:  26\n"
          ],
          "name": "stdout"
        },
        {
          "output_type": "stream",
          "text": [
            "Loss=0.20727598667144775 Batch_id=781 Accuracy=95.42: 100%|██████████| 782/782 [00:20<00:00, 37.57it/s]\n",
            "Loss=0.4877800941467285 , Accuracy=83.62:   0%|          | 0/157 [00:02<?, ?it/s]\n",
            "  0%|          | 0/782 [00:00<?, ?it/s]"
          ],
          "name": "stderr"
        },
        {
          "output_type": "stream",
          "text": [
            "\n",
            "Test set: Average loss: 0.0113, Accuracy: 8362/10000 (83.62%)\n",
            "\n",
            "===========================================================\n",
            "\n",
            "epoch no:  27\n"
          ],
          "name": "stdout"
        },
        {
          "output_type": "stream",
          "text": [
            "Loss=0.045777320861816406 Batch_id=781 Accuracy=95.51: 100%|██████████| 782/782 [00:20<00:00, 37.51it/s]\n",
            "Loss=0.5066709518432617 , Accuracy=83.86:   0%|          | 0/157 [00:02<?, ?it/s]\n",
            "  0%|          | 0/782 [00:00<?, ?it/s]"
          ],
          "name": "stderr"
        },
        {
          "output_type": "stream",
          "text": [
            "\n",
            "Test set: Average loss: 0.0110, Accuracy: 8386/10000 (83.86%)\n",
            "\n",
            "===========================================================\n",
            "\n",
            "epoch no:  28\n"
          ],
          "name": "stdout"
        },
        {
          "output_type": "stream",
          "text": [
            "Loss=0.020420193672180176 Batch_id=781 Accuracy=95.51: 100%|██████████| 782/782 [00:20<00:00, 37.66it/s]\n",
            "Loss=0.47854602336883545 , Accuracy=84.24:   0%|          | 0/157 [00:02<?, ?it/s]\n",
            "  0%|          | 0/782 [00:00<?, ?it/s]"
          ],
          "name": "stderr"
        },
        {
          "output_type": "stream",
          "text": [
            "\n",
            "Test set: Average loss: 0.0107, Accuracy: 8424/10000 (84.24%)\n",
            "\n",
            "===========================================================\n",
            "\n",
            "epoch no:  29\n"
          ],
          "name": "stdout"
        },
        {
          "output_type": "stream",
          "text": [
            "Loss=0.15771782398223877 Batch_id=781 Accuracy=95.54: 100%|██████████| 782/782 [00:20<00:00, 37.57it/s]\n",
            "Loss=0.5739279985427856 , Accuracy=83.92:   0%|          | 0/157 [00:02<?, ?it/s]\n",
            "  0%|          | 0/782 [00:00<?, ?it/s]"
          ],
          "name": "stderr"
        },
        {
          "output_type": "stream",
          "text": [
            "\n",
            "Test set: Average loss: 0.0109, Accuracy: 8392/10000 (83.92%)\n",
            "\n",
            "===========================================================\n",
            "\n",
            "epoch no:  30\n"
          ],
          "name": "stdout"
        },
        {
          "output_type": "stream",
          "text": [
            "Loss=0.1143038272857666 Batch_id=781 Accuracy=95.72: 100%|██████████| 782/782 [00:20<00:00, 41.17it/s]\n",
            "Loss=0.8426498174667358 , Accuracy=83.90:   0%|          | 0/157 [00:02<?, ?it/s]\n",
            "  0%|          | 0/782 [00:00<?, ?it/s]"
          ],
          "name": "stderr"
        },
        {
          "output_type": "stream",
          "text": [
            "\n",
            "Test set: Average loss: 0.0109, Accuracy: 8390/10000 (83.90%)\n",
            "\n",
            "===========================================================\n",
            "\n",
            "epoch no:  31\n"
          ],
          "name": "stdout"
        },
        {
          "output_type": "stream",
          "text": [
            "Loss=0.08891689777374268 Batch_id=781 Accuracy=95.65: 100%|██████████| 782/782 [00:21<00:00, 36.54it/s]\n",
            "Loss=0.7921884059906006 , Accuracy=83.64:   0%|          | 0/157 [00:02<?, ?it/s]\n",
            "  0%|          | 0/782 [00:00<?, ?it/s]"
          ],
          "name": "stderr"
        },
        {
          "output_type": "stream",
          "text": [
            "\n",
            "Test set: Average loss: 0.0109, Accuracy: 8364/10000 (83.64%)\n",
            "\n",
            "===========================================================\n",
            "\n",
            "epoch no:  32\n"
          ],
          "name": "stdout"
        },
        {
          "output_type": "stream",
          "text": [
            "Loss=0.1050257682800293 Batch_id=781 Accuracy=95.67: 100%|██████████| 782/782 [00:21<00:00, 37.01it/s]\n",
            "Loss=0.8532744646072388 , Accuracy=83.65:   0%|          | 0/157 [00:02<?, ?it/s]\n",
            "  0%|          | 0/782 [00:00<?, ?it/s]"
          ],
          "name": "stderr"
        },
        {
          "output_type": "stream",
          "text": [
            "\n",
            "Test set: Average loss: 0.0114, Accuracy: 8365/10000 (83.65%)\n",
            "\n",
            "===========================================================\n",
            "\n",
            "epoch no:  33\n"
          ],
          "name": "stdout"
        },
        {
          "output_type": "stream",
          "text": [
            "Loss=0.08863461017608643 Batch_id=781 Accuracy=95.77: 100%|██████████| 782/782 [00:21<00:00, 36.71it/s]\n",
            "Loss=0.7485213279724121 , Accuracy=84.30:   0%|          | 0/157 [00:02<?, ?it/s]\n",
            "  0%|          | 0/782 [00:00<?, ?it/s]"
          ],
          "name": "stderr"
        },
        {
          "output_type": "stream",
          "text": [
            "\n",
            "Test set: Average loss: 0.0106, Accuracy: 8430/10000 (84.30%)\n",
            "\n",
            "===========================================================\n",
            "\n",
            "epoch no:  34\n"
          ],
          "name": "stdout"
        },
        {
          "output_type": "stream",
          "text": [
            "Loss=0.10709786415100098 Batch_id=781 Accuracy=95.93: 100%|██████████| 782/782 [00:21<00:00, 39.05it/s]\n",
            "Loss=0.998633623123169 , Accuracy=83.99:   0%|          | 0/157 [00:02<?, ?it/s]\n",
            "  0%|          | 0/782 [00:00<?, ?it/s]"
          ],
          "name": "stderr"
        },
        {
          "output_type": "stream",
          "text": [
            "\n",
            "Test set: Average loss: 0.0112, Accuracy: 8399/10000 (83.99%)\n",
            "\n",
            "===========================================================\n",
            "\n",
            "epoch no:  35\n"
          ],
          "name": "stdout"
        },
        {
          "output_type": "stream",
          "text": [
            "Loss=0.01649928092956543 Batch_id=781 Accuracy=96.02: 100%|██████████| 782/782 [00:21<00:00, 36.10it/s]\n",
            "Loss=0.571679949760437 , Accuracy=83.77:   0%|          | 0/157 [00:02<?, ?it/s]\n",
            "  0%|          | 0/782 [00:00<?, ?it/s]"
          ],
          "name": "stderr"
        },
        {
          "output_type": "stream",
          "text": [
            "\n",
            "Test set: Average loss: 0.0113, Accuracy: 8377/10000 (83.77%)\n",
            "\n",
            "===========================================================\n",
            "\n",
            "epoch no:  36\n"
          ],
          "name": "stdout"
        },
        {
          "output_type": "stream",
          "text": [
            "Loss=0.015022873878479004 Batch_id=781 Accuracy=96.06: 100%|██████████| 782/782 [00:21<00:00, 35.80it/s]\n",
            "Loss=0.6490663290023804 , Accuracy=83.93:   0%|          | 0/157 [00:02<?, ?it/s]\n",
            "  0%|          | 0/782 [00:00<?, ?it/s]"
          ],
          "name": "stderr"
        },
        {
          "output_type": "stream",
          "text": [
            "\n",
            "Test set: Average loss: 0.0111, Accuracy: 8393/10000 (83.93%)\n",
            "\n",
            "===========================================================\n",
            "\n",
            "epoch no:  37\n"
          ],
          "name": "stdout"
        },
        {
          "output_type": "stream",
          "text": [
            "Loss=0.2618739604949951 Batch_id=781 Accuracy=95.99: 100%|██████████| 782/782 [00:22<00:00, 35.36it/s]\n",
            "Loss=0.4975210428237915 , Accuracy=83.72:   0%|          | 0/157 [00:02<?, ?it/s]\n",
            "  0%|          | 0/782 [00:00<?, ?it/s]"
          ],
          "name": "stderr"
        },
        {
          "output_type": "stream",
          "text": [
            "\n",
            "Test set: Average loss: 0.0110, Accuracy: 8372/10000 (83.72%)\n",
            "\n",
            "===========================================================\n",
            "\n",
            "epoch no:  38\n"
          ],
          "name": "stdout"
        },
        {
          "output_type": "stream",
          "text": [
            "Loss=0.04804539680480957 Batch_id=781 Accuracy=96.15: 100%|██████████| 782/782 [00:21<00:00, 36.11it/s]\n",
            "Loss=0.5928641557693481 , Accuracy=83.43:   0%|          | 0/157 [00:02<?, ?it/s]\n",
            "  0%|          | 0/782 [00:00<?, ?it/s]"
          ],
          "name": "stderr"
        },
        {
          "output_type": "stream",
          "text": [
            "\n",
            "Test set: Average loss: 0.0119, Accuracy: 8343/10000 (83.43%)\n",
            "\n",
            "===========================================================\n",
            "\n",
            "epoch no:  39\n"
          ],
          "name": "stdout"
        },
        {
          "output_type": "stream",
          "text": [
            "Loss=0.2041618824005127 Batch_id=781 Accuracy=96.19: 100%|██████████| 782/782 [00:21<00:00, 36.30it/s]\n",
            "Loss=0.6555967330932617 , Accuracy=83.69:   0%|          | 0/157 [00:02<?, ?it/s]\n",
            "  0%|          | 0/782 [00:00<?, ?it/s]"
          ],
          "name": "stderr"
        },
        {
          "output_type": "stream",
          "text": [
            "\n",
            "Test set: Average loss: 0.0114, Accuracy: 8369/10000 (83.69%)\n",
            "\n",
            "===========================================================\n",
            "\n",
            "epoch no:  40\n"
          ],
          "name": "stdout"
        },
        {
          "output_type": "stream",
          "text": [
            "Loss=0.14028751850128174 Batch_id=781 Accuracy=96.35: 100%|██████████| 782/782 [00:21<00:00, 36.15it/s]\n",
            "Loss=0.9821323156356812 , Accuracy=84.07:   0%|          | 0/157 [00:02<?, ?it/s]\n",
            "  0%|          | 0/782 [00:00<?, ?it/s]"
          ],
          "name": "stderr"
        },
        {
          "output_type": "stream",
          "text": [
            "\n",
            "Test set: Average loss: 0.0115, Accuracy: 8407/10000 (84.07%)\n",
            "\n",
            "===========================================================\n",
            "\n",
            "epoch no:  41\n"
          ],
          "name": "stdout"
        },
        {
          "output_type": "stream",
          "text": [
            "Loss=0.007143974304199219 Batch_id=781 Accuracy=96.23: 100%|██████████| 782/782 [00:21<00:00, 35.56it/s]\n",
            "Loss=1.1446930170059204 , Accuracy=84.03:   0%|          | 0/157 [00:02<?, ?it/s]\n",
            "  0%|          | 0/782 [00:00<?, ?it/s]"
          ],
          "name": "stderr"
        },
        {
          "output_type": "stream",
          "text": [
            "\n",
            "Test set: Average loss: 0.0115, Accuracy: 8403/10000 (84.03%)\n",
            "\n",
            "===========================================================\n",
            "\n",
            "epoch no:  42\n"
          ],
          "name": "stdout"
        },
        {
          "output_type": "stream",
          "text": [
            "Loss=0.07578933238983154 Batch_id=781 Accuracy=96.40: 100%|██████████| 782/782 [00:21<00:00, 35.67it/s]\n",
            "Loss=0.9142992496490479 , Accuracy=84.40:   0%|          | 0/157 [00:02<?, ?it/s]\n",
            "  0%|          | 0/782 [00:00<?, ?it/s]"
          ],
          "name": "stderr"
        },
        {
          "output_type": "stream",
          "text": [
            "\n",
            "Test set: Average loss: 0.0117, Accuracy: 8440/10000 (84.40%)\n",
            "\n",
            "===========================================================\n",
            "\n",
            "epoch no:  43\n"
          ],
          "name": "stdout"
        },
        {
          "output_type": "stream",
          "text": [
            "Loss=0.14292633533477783 Batch_id=781 Accuracy=96.52: 100%|██████████| 782/782 [00:21<00:00, 39.43it/s]\n",
            "Loss=0.7184772491455078 , Accuracy=83.97:   0%|          | 0/157 [00:02<?, ?it/s]\n",
            "  0%|          | 0/782 [00:00<?, ?it/s]"
          ],
          "name": "stderr"
        },
        {
          "output_type": "stream",
          "text": [
            "\n",
            "Test set: Average loss: 0.0119, Accuracy: 8397/10000 (83.97%)\n",
            "\n",
            "===========================================================\n",
            "\n",
            "epoch no:  44\n"
          ],
          "name": "stdout"
        },
        {
          "output_type": "stream",
          "text": [
            "Loss=0.17086517810821533 Batch_id=781 Accuracy=96.40: 100%|██████████| 782/782 [00:22<00:00, 35.03it/s]\n",
            "Loss=0.4274178743362427 , Accuracy=83.79:   0%|          | 0/157 [00:02<?, ?it/s]\n",
            "  0%|          | 0/782 [00:00<?, ?it/s]"
          ],
          "name": "stderr"
        },
        {
          "output_type": "stream",
          "text": [
            "\n",
            "Test set: Average loss: 0.0112, Accuracy: 8379/10000 (83.79%)\n",
            "\n",
            "===========================================================\n",
            "\n",
            "epoch no:  45\n"
          ],
          "name": "stdout"
        },
        {
          "output_type": "stream",
          "text": [
            "Loss=0.09401524066925049 Batch_id=781 Accuracy=96.65: 100%|██████████| 782/782 [00:22<00:00, 34.99it/s]\n",
            "Loss=0.07718706130981445 , Accuracy=84.51:   0%|          | 0/157 [00:02<?, ?it/s]\n",
            "  0%|          | 0/782 [00:00<?, ?it/s]"
          ],
          "name": "stderr"
        },
        {
          "output_type": "stream",
          "text": [
            "\n",
            "Test set: Average loss: 0.0113, Accuracy: 8451/10000 (84.51%)\n",
            "\n",
            "===========================================================\n",
            "\n",
            "epoch no:  46\n"
          ],
          "name": "stdout"
        },
        {
          "output_type": "stream",
          "text": [
            "Loss=0.10406196117401123 Batch_id=781 Accuracy=96.69: 100%|██████████| 782/782 [00:22<00:00, 35.13it/s]\n",
            "Loss=0.809188723564148 , Accuracy=84.35:   0%|          | 0/157 [00:02<?, ?it/s]\n",
            "  0%|          | 0/782 [00:00<?, ?it/s]"
          ],
          "name": "stderr"
        },
        {
          "output_type": "stream",
          "text": [
            "\n",
            "Test set: Average loss: 0.0116, Accuracy: 8435/10000 (84.35%)\n",
            "\n",
            "===========================================================\n",
            "\n",
            "epoch no:  47\n"
          ],
          "name": "stdout"
        },
        {
          "output_type": "stream",
          "text": [
            "Loss=0.14689135551452637 Batch_id=781 Accuracy=96.79: 100%|██████████| 782/782 [00:22<00:00, 36.95it/s]\n",
            "Loss=0.3496037721633911 , Accuracy=83.96:   0%|          | 0/157 [00:02<?, ?it/s]\n",
            "  0%|          | 0/782 [00:00<?, ?it/s]"
          ],
          "name": "stderr"
        },
        {
          "output_type": "stream",
          "text": [
            "\n",
            "Test set: Average loss: 0.0119, Accuracy: 8396/10000 (83.96%)\n",
            "\n",
            "===========================================================\n",
            "\n",
            "epoch no:  48\n"
          ],
          "name": "stdout"
        },
        {
          "output_type": "stream",
          "text": [
            "Loss=0.21417903900146484 Batch_id=781 Accuracy=96.70: 100%|██████████| 782/782 [00:22<00:00, 34.92it/s]\n",
            "Loss=0.4461737871170044 , Accuracy=83.65:   0%|          | 0/157 [00:02<?, ?it/s]\n",
            "  0%|          | 0/782 [00:00<?, ?it/s]"
          ],
          "name": "stderr"
        },
        {
          "output_type": "stream",
          "text": [
            "\n",
            "Test set: Average loss: 0.0122, Accuracy: 8365/10000 (83.65%)\n",
            "\n",
            "===========================================================\n",
            "\n",
            "epoch no:  49\n"
          ],
          "name": "stdout"
        },
        {
          "output_type": "stream",
          "text": [
            "Loss=0.4973386526107788 Batch_id=781 Accuracy=96.88: 100%|██████████| 782/782 [00:22<00:00, 34.98it/s]\n",
            "Loss=0.49002015590667725 , Accuracy=84.21:   0%|          | 0/157 [00:02<?, ?it/s]\n",
            "  0%|          | 0/782 [00:00<?, ?it/s]"
          ],
          "name": "stderr"
        },
        {
          "output_type": "stream",
          "text": [
            "\n",
            "Test set: Average loss: 0.0116, Accuracy: 8421/10000 (84.21%)\n",
            "\n",
            "===========================================================\n",
            "\n",
            "epoch no:  50\n"
          ],
          "name": "stdout"
        },
        {
          "output_type": "stream",
          "text": [
            "Loss=0.12399160861968994 Batch_id=781 Accuracy=96.80: 100%|██████████| 782/782 [00:22<00:00, 34.14it/s]\n",
            "Loss=0.8696433305740356 , Accuracy=84.02:   0%|          | 0/157 [00:02<?, ?it/s]\n",
            "  0%|          | 0/782 [00:00<?, ?it/s]"
          ],
          "name": "stderr"
        },
        {
          "output_type": "stream",
          "text": [
            "\n",
            "Test set: Average loss: 0.0122, Accuracy: 8402/10000 (84.02%)\n",
            "\n",
            "===========================================================\n",
            "\n",
            "epoch no:  51\n"
          ],
          "name": "stdout"
        },
        {
          "output_type": "stream",
          "text": [
            "Loss=0.4346494674682617 Batch_id=781 Accuracy=96.64: 100%|██████████| 782/782 [00:22<00:00, 34.29it/s]\n",
            "Loss=0.4626896381378174 , Accuracy=83.69:   0%|          | 0/157 [00:02<?, ?it/s]\n",
            "  0%|          | 0/782 [00:00<?, ?it/s]"
          ],
          "name": "stderr"
        },
        {
          "output_type": "stream",
          "text": [
            "\n",
            "Test set: Average loss: 0.0126, Accuracy: 8369/10000 (83.69%)\n",
            "\n",
            "===========================================================\n",
            "\n",
            "epoch no:  52\n"
          ],
          "name": "stdout"
        },
        {
          "output_type": "stream",
          "text": [
            "Loss=0.21860921382904053 Batch_id=781 Accuracy=96.74: 100%|██████████| 782/782 [00:22<00:00, 34.54it/s]\n",
            "Loss=0.24208319187164307 , Accuracy=83.34:   0%|          | 0/157 [00:02<?, ?it/s]\n",
            "  0%|          | 0/782 [00:00<?, ?it/s]"
          ],
          "name": "stderr"
        },
        {
          "output_type": "stream",
          "text": [
            "\n",
            "Test set: Average loss: 0.0122, Accuracy: 8334/10000 (83.34%)\n",
            "\n",
            "===========================================================\n",
            "\n",
            "epoch no:  53\n"
          ],
          "name": "stdout"
        },
        {
          "output_type": "stream",
          "text": [
            "Loss=0.13259363174438477 Batch_id=781 Accuracy=96.92: 100%|██████████| 782/782 [00:22<00:00, 34.18it/s]\n",
            "Loss=0.6009563207626343 , Accuracy=84.04:   0%|          | 0/157 [00:02<?, ?it/s]\n",
            "  0%|          | 0/782 [00:00<?, ?it/s]"
          ],
          "name": "stderr"
        },
        {
          "output_type": "stream",
          "text": [
            "\n",
            "Test set: Average loss: 0.0117, Accuracy: 8404/10000 (84.04%)\n",
            "\n",
            "===========================================================\n",
            "\n",
            "epoch no:  54\n"
          ],
          "name": "stdout"
        },
        {
          "output_type": "stream",
          "text": [
            "Loss=0.17456138134002686 Batch_id=781 Accuracy=96.98: 100%|██████████| 782/782 [00:22<00:00, 34.10it/s]\n",
            "Loss=0.3929957151412964 , Accuracy=84.12:   0%|          | 0/157 [00:02<?, ?it/s]\n",
            "  0%|          | 0/782 [00:00<?, ?it/s]"
          ],
          "name": "stderr"
        },
        {
          "output_type": "stream",
          "text": [
            "\n",
            "Test set: Average loss: 0.0122, Accuracy: 8412/10000 (84.12%)\n",
            "\n",
            "===========================================================\n",
            "\n",
            "epoch no:  55\n"
          ],
          "name": "stdout"
        },
        {
          "output_type": "stream",
          "text": [
            "Loss=0.0787588357925415 Batch_id=781 Accuracy=96.88: 100%|██████████| 782/782 [00:23<00:00, 33.74it/s]\n",
            "Loss=0.2303915023803711 , Accuracy=84.02:   0%|          | 0/157 [00:02<?, ?it/s]\n",
            "  0%|          | 0/782 [00:00<?, ?it/s]"
          ],
          "name": "stderr"
        },
        {
          "output_type": "stream",
          "text": [
            "\n",
            "Test set: Average loss: 0.0120, Accuracy: 8402/10000 (84.02%)\n",
            "\n",
            "===========================================================\n",
            "\n",
            "epoch no:  56\n"
          ],
          "name": "stdout"
        },
        {
          "output_type": "stream",
          "text": [
            "Loss=0.05489516258239746 Batch_id=781 Accuracy=96.94: 100%|██████████| 782/782 [00:23<00:00, 33.79it/s]\n",
            "Loss=0.7207307815551758 , Accuracy=84.08:   0%|          | 0/157 [00:02<?, ?it/s]\n",
            "  0%|          | 0/782 [00:00<?, ?it/s]"
          ],
          "name": "stderr"
        },
        {
          "output_type": "stream",
          "text": [
            "\n",
            "Test set: Average loss: 0.0123, Accuracy: 8408/10000 (84.08%)\n",
            "\n",
            "===========================================================\n",
            "\n",
            "epoch no:  57\n"
          ],
          "name": "stdout"
        },
        {
          "output_type": "stream",
          "text": [
            "Loss=0.03413951396942139 Batch_id=781 Accuracy=97.05: 100%|██████████| 782/782 [00:23<00:00, 33.37it/s]\n",
            "Loss=0.2766382694244385 , Accuracy=83.90:   0%|          | 0/157 [00:02<?, ?it/s]\n",
            "  0%|          | 0/782 [00:00<?, ?it/s]"
          ],
          "name": "stderr"
        },
        {
          "output_type": "stream",
          "text": [
            "\n",
            "Test set: Average loss: 0.0121, Accuracy: 8390/10000 (83.90%)\n",
            "\n",
            "===========================================================\n",
            "\n",
            "epoch no:  58\n"
          ],
          "name": "stdout"
        },
        {
          "output_type": "stream",
          "text": [
            "Loss=0.17261111736297607 Batch_id=781 Accuracy=96.97: 100%|██████████| 782/782 [00:23<00:00, 33.69it/s]\n",
            "Loss=0.42765378952026367 , Accuracy=83.90:   0%|          | 0/157 [00:02<?, ?it/s]\n",
            "  0%|          | 0/782 [00:00<?, ?it/s]"
          ],
          "name": "stderr"
        },
        {
          "output_type": "stream",
          "text": [
            "\n",
            "Test set: Average loss: 0.0125, Accuracy: 8390/10000 (83.90%)\n",
            "\n",
            "===========================================================\n",
            "\n",
            "epoch no:  59\n"
          ],
          "name": "stdout"
        },
        {
          "output_type": "stream",
          "text": [
            "Loss=0.396861732006073 Batch_id=781 Accuracy=96.99: 100%|██████████| 782/782 [00:23<00:00, 33.67it/s]\n",
            "Loss=0.2409656047821045 , Accuracy=84.20:   0%|          | 0/157 [00:02<?, ?it/s]\n",
            "  0%|          | 0/782 [00:00<?, ?it/s]"
          ],
          "name": "stderr"
        },
        {
          "output_type": "stream",
          "text": [
            "\n",
            "Test set: Average loss: 0.0120, Accuracy: 8420/10000 (84.20%)\n",
            "\n",
            "===========================================================\n",
            "\n",
            "epoch no:  60\n"
          ],
          "name": "stdout"
        },
        {
          "output_type": "stream",
          "text": [
            "Loss=0.08446121215820312 Batch_id=781 Accuracy=97.20: 100%|██████████| 782/782 [00:23<00:00, 33.52it/s]\n",
            "Loss=0.656522274017334 , Accuracy=84.23:   0%|          | 0/157 [00:02<?, ?it/s]\n",
            "  0%|          | 0/782 [00:00<?, ?it/s]"
          ],
          "name": "stderr"
        },
        {
          "output_type": "stream",
          "text": [
            "\n",
            "Test set: Average loss: 0.0122, Accuracy: 8423/10000 (84.23%)\n",
            "\n",
            "===========================================================\n",
            "\n",
            "epoch no:  61\n"
          ],
          "name": "stdout"
        },
        {
          "output_type": "stream",
          "text": [
            "Loss=0.19261658191680908 Batch_id=781 Accuracy=97.11: 100%|██████████| 782/782 [00:23<00:00, 33.70it/s]\n",
            "Loss=0.6242632865905762 , Accuracy=84.04:   0%|          | 0/157 [00:02<?, ?it/s]\n",
            "  0%|          | 0/782 [00:00<?, ?it/s]"
          ],
          "name": "stderr"
        },
        {
          "output_type": "stream",
          "text": [
            "\n",
            "Test set: Average loss: 0.0123, Accuracy: 8404/10000 (84.04%)\n",
            "\n",
            "===========================================================\n",
            "\n",
            "epoch no:  62\n"
          ],
          "name": "stdout"
        },
        {
          "output_type": "stream",
          "text": [
            "Loss=0.04567861557006836 Batch_id=781 Accuracy=97.17: 100%|██████████| 782/782 [00:23<00:00, 37.52it/s]\n",
            "Loss=0.5998221635818481 , Accuracy=84.06:   0%|          | 0/157 [00:02<?, ?it/s]\n",
            "  0%|          | 0/782 [00:00<?, ?it/s]"
          ],
          "name": "stderr"
        },
        {
          "output_type": "stream",
          "text": [
            "\n",
            "Test set: Average loss: 0.0122, Accuracy: 8406/10000 (84.06%)\n",
            "\n",
            "===========================================================\n",
            "\n",
            "epoch no:  63\n"
          ],
          "name": "stdout"
        },
        {
          "output_type": "stream",
          "text": [
            "Loss=0.11872506141662598 Batch_id=781 Accuracy=97.18: 100%|██████████| 782/782 [00:22<00:00, 34.47it/s]\n",
            "Loss=0.5256274938583374 , Accuracy=83.49:   0%|          | 0/157 [00:02<?, ?it/s]\n",
            "  0%|          | 0/782 [00:00<?, ?it/s]"
          ],
          "name": "stderr"
        },
        {
          "output_type": "stream",
          "text": [
            "\n",
            "Test set: Average loss: 0.0120, Accuracy: 8349/10000 (83.49%)\n",
            "\n",
            "===========================================================\n",
            "\n",
            "epoch no:  64\n"
          ],
          "name": "stdout"
        },
        {
          "output_type": "stream",
          "text": [
            "Loss=0.5092240571975708 Batch_id=781 Accuracy=97.30: 100%|██████████| 782/782 [00:22<00:00, 34.35it/s]\n",
            "Loss=0.48839521408081055 , Accuracy=84.40:   0%|          | 0/157 [00:02<?, ?it/s]\n",
            "  0%|          | 0/782 [00:00<?, ?it/s]"
          ],
          "name": "stderr"
        },
        {
          "output_type": "stream",
          "text": [
            "\n",
            "Test set: Average loss: 0.0119, Accuracy: 8440/10000 (84.40%)\n",
            "\n",
            "===========================================================\n",
            "\n",
            "epoch no:  65\n"
          ],
          "name": "stdout"
        },
        {
          "output_type": "stream",
          "text": [
            "Loss=0.05084121227264404 Batch_id=781 Accuracy=97.38: 100%|██████████| 782/782 [00:22<00:00, 34.50it/s]\n",
            "Loss=1.1276657581329346 , Accuracy=84.14:   0%|          | 0/157 [00:02<?, ?it/s]\n",
            "  0%|          | 0/782 [00:00<?, ?it/s]"
          ],
          "name": "stderr"
        },
        {
          "output_type": "stream",
          "text": [
            "\n",
            "Test set: Average loss: 0.0128, Accuracy: 8414/10000 (84.14%)\n",
            "\n",
            "===========================================================\n",
            "\n",
            "epoch no:  66\n"
          ],
          "name": "stdout"
        },
        {
          "output_type": "stream",
          "text": [
            "Loss=0.02331829071044922 Batch_id=781 Accuracy=97.43: 100%|██████████| 782/782 [00:22<00:00, 34.24it/s]\n",
            "Loss=0.5826929807662964 , Accuracy=83.96:   0%|          | 0/157 [00:02<?, ?it/s]\n",
            "  0%|          | 0/782 [00:00<?, ?it/s]"
          ],
          "name": "stderr"
        },
        {
          "output_type": "stream",
          "text": [
            "\n",
            "Test set: Average loss: 0.0122, Accuracy: 8396/10000 (83.96%)\n",
            "\n",
            "===========================================================\n",
            "\n",
            "epoch no:  67\n"
          ],
          "name": "stdout"
        },
        {
          "output_type": "stream",
          "text": [
            "Loss=0.32553863525390625 Batch_id=781 Accuracy=97.38: 100%|██████████| 782/782 [00:22<00:00, 36.50it/s]\n",
            "Loss=0.681035041809082 , Accuracy=84.38:   0%|          | 0/157 [00:02<?, ?it/s]\n",
            "  0%|          | 0/782 [00:00<?, ?it/s]"
          ],
          "name": "stderr"
        },
        {
          "output_type": "stream",
          "text": [
            "\n",
            "Test set: Average loss: 0.0126, Accuracy: 8438/10000 (84.38%)\n",
            "\n",
            "===========================================================\n",
            "\n",
            "epoch no:  68\n"
          ],
          "name": "stdout"
        },
        {
          "output_type": "stream",
          "text": [
            "Loss=0.021074414253234863 Batch_id=781 Accuracy=97.37: 100%|██████████| 782/782 [00:22<00:00, 35.19it/s]\n",
            "Loss=0.6278992891311646 , Accuracy=84.03:   0%|          | 0/157 [00:02<?, ?it/s]\n",
            "  0%|          | 0/782 [00:00<?, ?it/s]"
          ],
          "name": "stderr"
        },
        {
          "output_type": "stream",
          "text": [
            "\n",
            "Test set: Average loss: 0.0122, Accuracy: 8403/10000 (84.03%)\n",
            "\n",
            "===========================================================\n",
            "\n",
            "epoch no:  69\n"
          ],
          "name": "stdout"
        },
        {
          "output_type": "stream",
          "text": [
            "Loss=0.0038367509841918945 Batch_id=781 Accuracy=97.43: 100%|██████████| 782/782 [00:23<00:00, 33.14it/s]\n",
            "Loss=0.6852177381515503 , Accuracy=84.11:   0%|          | 0/157 [00:02<?, ?it/s]"
          ],
          "name": "stderr"
        },
        {
          "output_type": "stream",
          "text": [
            "\n",
            "Test set: Average loss: 0.0124, Accuracy: 8411/10000 (84.11%)\n",
            "\n",
            "===========================================================\n",
            "\n"
          ],
          "name": "stdout"
        },
        {
          "output_type": "stream",
          "text": [
            "\n"
          ],
          "name": "stderr"
        }
      ]
    }
  ]
}