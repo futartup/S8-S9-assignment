{
  "nbformat": 4,
  "nbformat_minor": 0,
  "metadata": {
    "kernelspec": {
      "display_name": "Python 3",
      "language": "python",
      "name": "python3"
    },
    "language_info": {
      "codemirror_mode": {
        "name": "ipython",
        "version": 3
      },
      "file_extension": ".py",
      "mimetype": "text/x-python",
      "name": "python",
      "nbconvert_exporter": "python",
      "pygments_lexer": "ipython3",
      "version": "3.6.6"
    },
    "colab": {
      "name": "utils.ipynb",
      "provenance": [],
      "collapsed_sections": [],
      "include_colab_link": true
    }
  },
  "cells": [
    {
      "cell_type": "markdown",
      "metadata": {
        "id": "view-in-github",
        "colab_type": "text"
      },
      "source": [
        "<a href=\"https://colab.research.google.com/github/futartup/S8-assignment/blob/master/utils.ipynb\" target=\"_parent\"><img src=\"https://colab.research.google.com/assets/colab-badge.svg\" alt=\"Open In Colab\"/></a>"
      ]
    },
    {
      "cell_type": "code",
      "metadata": {
        "id": "faeQZp7Ah4WD",
        "colab_type": "code",
        "colab": {}
      },
      "source": [
        "import numpy as np\n"
      ],
      "execution_count": 0,
      "outputs": []
    },
    {
      "cell_type": "markdown",
      "metadata": {
        "id": "iSN8cN0dkr6E",
        "colab_type": "text"
      },
      "source": [
        "# Show image "
      ]
    },
    {
      "cell_type": "code",
      "metadata": {
        "id": "ENzZv4NAk0e4",
        "colab_type": "code",
        "colab": {}
      },
      "source": [
        "\n",
        "def matplotlib_imshow(classes, data, plt, one_channel):\n",
        "    fig, ax1 = plt.subplots(1,len(data))\n",
        "    for i, sample in enumerate(data):\n",
        "      image = sample['image'].cpu()\n",
        "      label = classes[sample['prediction'].item()]\n",
        "      if one_channel:\n",
        "        image = image.mean(dim=0)\n",
        "      image = image / 2 + 0.5     # unnormalize\n",
        "      npimg = image.numpy()\n",
        "      ax1[i].set_title(label)\n",
        "      if one_channel:\n",
        "          ax1[i].imshow(npimg)\n",
        "      else:\n",
        "          ax1[i].imshow(np.transpose(npimg, (1, 2, 0)))"
      ],
      "execution_count": 0,
      "outputs": []
    },
    {
      "cell_type": "markdown",
      "metadata": {
        "id": "GgaVfR7EklfN",
        "colab_type": "text"
      },
      "source": [
        "# Plot the test and train graphs"
      ]
    },
    {
      "cell_type": "code",
      "metadata": {
        "id": "Mw-NIH6rkqxH",
        "colab_type": "code",
        "colab": {}
      },
      "source": [
        "def plottesttraingraph(train_losses, train_acc, test_losses, test_acc, plt):\n",
        "    fig, axs = plt.subplots(nrows=3, ncols=2, figsize=(15, 10))\n",
        "    axs[0, 0].plot(train_losses)\n",
        "    axs[0, 0].set_title(\"Training Loss\")\n",
        "    axs[1, 0].plot(train_acc)\n",
        "    axs[1, 0].set_title(\"Training Accuracy\")\n",
        "    axs[0, 1].plot(test_losses)\n",
        "    axs[0, 1].set_title(\"Test Loss\")\n",
        "    axs[1, 1].plot(test_acc)\n",
        "    axs[1, 1].set_title(\"Test Accuracy\")\n",
        "    #plt.savefig(\"images/train_test_graphs.png\")\n",
        "    #plt.show()\n"
      ],
      "execution_count": 0,
      "outputs": []
    }
  ]
}