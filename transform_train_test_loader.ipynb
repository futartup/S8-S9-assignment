{
  "nbformat": 4,
  "nbformat_minor": 0,
  "metadata": {
    "kernelspec": {
      "display_name": "Python 3",
      "language": "python",
      "name": "python3"
    },
    "language_info": {
      "codemirror_mode": {
        "name": "ipython",
        "version": 3
      },
      "file_extension": ".py",
      "mimetype": "text/x-python",
      "name": "python",
      "nbconvert_exporter": "python",
      "pygments_lexer": "ipython3",
      "version": "3.6.6"
    },
    "colab": {
      "name": "transform_train_test_loader.ipynb",
      "provenance": [],
      "collapsed_sections": [],
      "include_colab_link": true
    }
  },
  "cells": [
    {
      "cell_type": "markdown",
      "metadata": {
        "id": "view-in-github",
        "colab_type": "text"
      },
      "source": [
        "<a href=\"https://colab.research.google.com/github/futartup/S8-assignment/blob/master/transform_train_test_loader.ipynb\" target=\"_parent\"><img src=\"https://colab.research.google.com/assets/colab-badge.svg\" alt=\"Open In Colab\"/></a>"
      ]
    },
    {
      "cell_type": "code",
      "metadata": {
        "id": "e0L6ClQn1Jxu",
        "colab_type": "code",
        "colab": {}
      },
      "source": [
        "import torch\n",
        "import glob\n",
        "import torchvision\n",
        "import torchvision.transforms as transforms\n",
        "from torch.utils.data import DataLoader, Dataset\n",
        "from matplotlib import pyplot as plt\n",
        "from PIL import Image\n",
        "import numpy as np"
      ],
      "execution_count": 0,
      "outputs": []
    },
    {
      "cell_type": "markdown",
      "metadata": {
        "id": "17u4nliUhXFO",
        "colab_type": "text"
      },
      "source": [
        "# **Create transformation pipeline for training**"
      ]
    },
    {
      "cell_type": "code",
      "metadata": {
        "id": "fbnJFbTEglM_",
        "colab_type": "code",
        "colab": {}
      },
      "source": [
        "import albumentations as A\n",
        "from albumentations.pytorch import ToTensor\n",
        "\n",
        "\n",
        "class AlbumentationDataSet():\n",
        "  def __init__(self, train=True):\n",
        "    if train:\n",
        "      self.albu_aug = A.Compose(\n",
        "                      [\n",
        "                          A.HorizontalFlip(p = 0.5), # apply horizontal flip to 50% of images\n",
        "                          A.OneOf(\n",
        "                              [\n",
        "                                  # apply one of transforms to 50% of images\n",
        "                                  A.RandomContrast(always_apply=False, p=1.0, limit=(-0.25999999046325684, 0.17000000178813934)), # apply random contrast\n",
        "                                  A.RandomGamma(always_apply=False, p=0.25, gamma_limit=(80, 120)), # apply random gamma\n",
        "                                  A.RandomBrightness(always_apply=False, p=1.0, limit=(-0.3700000047683716, 0.35999998450279236)), # apply random brightness\n",
        "                                  A.RGBShift(always_apply=True, p=0.25, r_shift_limit=(-20, 20), g_shift_limit=(-20, 20), b_shift_limit=(-20, 20)),\n",
        "                                  #A.Blur(always_apply=True, p=0.25, blur_limit=(3, 7)),\n",
        "                            ],\n",
        "                              p = 0.5\n",
        "                          ),\n",
        "                          # A.OneOf(\n",
        "                          #     [\n",
        "                          #         # apply one of transforms to 50% images\n",
        "                          #         A.ElasticTransform(\n",
        "                          #             alpha = 120,\n",
        "                          #             sigma = 120 * 0.05,\n",
        "                          #             alpha_affine = 120 * 0.03\n",
        "                          #         ),\n",
        "                          #         A.GridDistortion(),\n",
        "                          #         A.OpticalDistortion(\n",
        "                          #             distort_limit = 2,\n",
        "                          #             shift_limit = 0.5\n",
        "                          #         ),\n",
        "                          #     ],\n",
        "                          #     p = 0.5\n",
        "                          # ),\n",
        "                          A.Cutout(num_holes=8, max_h_size=8, max_w_size=8, always_apply=True, p=1.0),\n",
        "                          A.Normalize(\n",
        "                            mean=[0.4914, 0.4822, 0.4465],\n",
        "                            std=[0.2023, 0.1994, 0.2010],\n",
        "                            always_apply=True,\n",
        "                            ),\n",
        "                          \n",
        "                          ToTensor() # convert the image to PyTorch tensor\n",
        "                      ],\n",
        "                      p = 1\n",
        "                  )\n",
        "      \n",
        "  def __len__(self):\n",
        "    return len(self.image_list)\n",
        "\n",
        "  def __call__(self, image):\n",
        "    # image = plt.imread(numpy.asarray(self.image_list[i][0]))\n",
        "    # image = Image.fromarray(image).convert('RGB')\n",
        "    # image = self.albu_aug(image=np.array(image))['image']\n",
        "    # #image = np.transpose(image, (2, 0, 1)).astype(np.float32)\n",
        "    # return image\n",
        "    image = np.array(image)\n",
        "    image = self.albu_aug(image=image)['image']\n",
        "    return image\n",
        "  "
      ],
      "execution_count": 0,
      "outputs": []
    },
    {
      "cell_type": "code",
      "metadata": {
        "id": "xjGKS9kD5aiX",
        "colab_type": "code",
        "colab": {}
      },
      "source": [
        "# transform_train = transforms.Compose([augmentation_pipeline,\n",
        "#     transforms.Normalize((0.4914, 0.4822, 0.4465), (0.2023, 0.1994, 0.2010)),\n",
        "# ])\n",
        "#transform_train = augmentation_pipeline\n",
        "# Get the image list\n"
      ],
      "execution_count": 0,
      "outputs": []
    },
    {
      "cell_type": "markdown",
      "metadata": {
        "id": "H8ihcCG7hjDx",
        "colab_type": "text"
      },
      "source": [
        "# **Apply Transformations on the test set**"
      ]
    },
    {
      "cell_type": "code",
      "metadata": {
        "id": "ol6Ytxe6gnVP",
        "colab_type": "code",
        "colab": {}
      },
      "source": [
        "# Normalize the test set same as training set without augmentation\n",
        "transform_test = transforms.Compose([\n",
        "    transforms.ToTensor(),\n",
        "    transforms.Normalize((0.4914, 0.4822, 0.4465), (0.2023, 0.1994, 0.2010)),\n",
        "])"
      ],
      "execution_count": 0,
      "outputs": []
    },
    {
      "cell_type": "markdown",
      "metadata": {
        "id": "ksPI5HA4iIBA",
        "colab_type": "text"
      },
      "source": [
        "# **Get the loader for the train data**"
      ]
    },
    {
      "cell_type": "code",
      "metadata": {
        "id": "oeof7uyzg0lX",
        "colab_type": "code",
        "colab": {}
      },
      "source": [
        "def get_train_loader():\n",
        "  trainset = torchvision.datasets.CIFAR10(root='./data', train=True,\n",
        "                                          download=True, transform=AlbumentationDataSet())\n",
        "  #alb_dataset = AlbumentationDataSet(image_list=trainset)\n",
        "  #train_loader = DataLoader(dataset=alb_dataset, batch_size=64, shuffle=True, num_workers=2)\n",
        "  train_loader = torch.utils.data.DataLoader(trainset, batch_size=64,\n",
        "                                          shuffle=True, num_workers=2)\n",
        "  return train_loader\n"
      ],
      "execution_count": 0,
      "outputs": []
    },
    {
      "cell_type": "markdown",
      "metadata": {
        "id": "aU2m8JjAiZCe",
        "colab_type": "text"
      },
      "source": [
        "# **Get the loader for the test data**"
      ]
    },
    {
      "cell_type": "code",
      "metadata": {
        "id": "uQMb4u8hg0vq",
        "colab_type": "code",
        "colab": {}
      },
      "source": [
        "def get_test_loader():  \n",
        "  testset = torchvision.datasets.CIFAR10(root='./data', train=False,\n",
        "                                       download=True, transform=transform_test)\n",
        "  test_loader = DataLoader(testset, batch_size=64,\n",
        "                           shuffle=False, num_workers=2)\n",
        "  return test_loader"
      ],
      "execution_count": 0,
      "outputs": []
    },
    {
      "cell_type": "code",
      "metadata": {
        "id": "AszImhfJEUYr",
        "colab_type": "code",
        "colab": {}
      },
      "source": [
        "classes = ('plane', 'car', 'bird', 'cat',\n",
        "           'deer', 'dog', 'frog', 'horse', 'ship', 'truck')"
      ],
      "execution_count": 0,
      "outputs": []
    },
    {
      "cell_type": "markdown",
      "metadata": {
        "id": "DcLrelkQ1OSz",
        "colab_type": "text"
      },
      "source": [
        ""
      ]
    }
  ]
}